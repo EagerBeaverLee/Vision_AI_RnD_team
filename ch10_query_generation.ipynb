{
 "cells": [
  {
   "cell_type": "code",
   "execution_count": 278,
   "id": "8c7b4d7f-de99-41c7-86ad-89d3827143ee",
   "metadata": {},
   "outputs": [
    {
     "name": "stdin",
     "output_type": "stream",
     "text": [
      "Enter your OPENAI_API_KEY ········\n"
     ]
    }
   ],
   "source": [
    "# ingestion: Metadata Enrichment\n",
    "from langchain_chroma import Chroma\n",
    "from langchain_openai import OpenAIEmbeddings\n",
    "import getpass\n",
    "\n",
    "OPENAI_API_KEY = getpass.getpass('Enter your OPENAI_API_KEY')"
   ]
  },
  {
   "cell_type": "code",
   "execution_count": 279,
   "id": "2e8ec358-80cc-407c-8885-01c5e0719635",
   "metadata": {},
   "outputs": [
    {
     "name": "stderr",
     "output_type": "stream",
     "text": [
      "Failed to send telemetry event ClientStartEvent: capture() takes 1 positional argument but 3 were given\n",
      "Failed to send telemetry event ClientCreateCollectionEvent: capture() takes 1 positional argument but 3 were given\n",
      "Failed to send telemetry event ClientCreateCollectionEvent: capture() takes 1 positional argument but 3 were given\n"
     ]
    }
   ],
   "source": [
    "uk_with_metadata_collection = Chroma(\n",
    "    collection_name = \"uk_with_metadata_collection\",\n",
    "    embedding_function = OpenAIEmbeddings(openai_api_key = OPENAI_API_KEY)\n",
    ")\n",
    "\n",
    "uk_with_metadata_collection.reset_collection() #incase it already exists"
   ]
  },
  {
   "cell_type": "code",
   "execution_count": 280,
   "id": "169aa935-3495-4415-a9fb-59d6c78a4db2",
   "metadata": {},
   "outputs": [],
   "source": [
    "#Define ingestion content and splitting strategy\n",
    "from langchain_community.document_loaders import AsyncHtmlLoader\n",
    "from langchain_community.document_transformers import Html2TextTransformer\n",
    "from langchain_text_splitters import RecursiveCharacterTextSplitter\n",
    "from langchain_core.documents import Document\n",
    "\n",
    "html2text_transformer = Html2TextTransformer()\n",
    "\n",
    "text_splitter = RecursiveCharacterTextSplitter(\n",
    "        chunk_size=1000, chunk_overlap=100\n",
    "    )\n",
    "\n",
    "def split_docs_into_chunks(docs):\n",
    "    text_docs = html2text_transformer.transform_documents(docs) #transform HTML docs into clean text docs\n",
    "    chunks = text_splitter.split_documents(text_docs)\n",
    "\n",
    "    return chunks\n",
    "\n",
    "uk_destinations = [\n",
    "    (\"Cornwall\", \"Cornwall\"), (\"North_Cornwall\", \"Cornwall\"),\n",
    "    (\"South_Cornwall\", \"Cornwall\"), (\"West_Cornwall\", \"Cornwall\"),\n",
    "    (\"Tintagel\", \"Cornwall\"), (\"Bodmin\", \"Cornwall\"), (\"Wadebridge\", \"Cornwall\"),\n",
    "    (\"Penzance\", \"Cornwall\"), (\"Newquay\", \"Cornwall\"), (\"St_Ives\", \"Cornwall\"),\n",
    "    (\"Port_Isaac\", \"Cornwall\"), (\"Looe\", \"Cornwall\"), (\"Polperro\", \"Cornwall\"),\n",
    "    (\"Porthleven\", \"Cornwall\"),\n",
    "    (\"East_Sussex\", \"East_Sussex\"), (\"Brighton\", \"East_Sussex\"),\n",
    "    (\"Battle\", \"East_Sussex\"), (\"Hastings_(England)\", \"East_Sussex\"),\n",
    "    (\"Rye_(England)\", \"East_Sussex\"), (\"Seaford\", \"East_Sussex\"),\n",
    "    (\"Ashdown_Forest\", \"East_Sussex\")\n",
    "]\n",
    "\n",
    "wikivoyage_root_url = \"https://en.wikivoyage.org/wiki\"\n",
    "\n",
    "uk_destination_url_with_metadata = [ #C\n",
    "    ( f'{wikivoyage_root_url}/{destination}', destination, region)\n",
    "    for destination, region in uk_destinations]"
   ]
  },
  {
   "cell_type": "code",
   "execution_count": 281,
   "id": "0906abc8-6241-49a4-b782-a94c012d5077",
   "metadata": {},
   "outputs": [
    {
     "data": {
      "text/plain": [
       "[('https://en.wikivoyage.org/wiki/Cornwall', 'Cornwall', 'Cornwall'),\n",
       " ('https://en.wikivoyage.org/wiki/North_Cornwall',\n",
       "  'North_Cornwall',\n",
       "  'Cornwall'),\n",
       " ('https://en.wikivoyage.org/wiki/South_Cornwall',\n",
       "  'South_Cornwall',\n",
       "  'Cornwall'),\n",
       " ('https://en.wikivoyage.org/wiki/West_Cornwall', 'West_Cornwall', 'Cornwall'),\n",
       " ('https://en.wikivoyage.org/wiki/Tintagel', 'Tintagel', 'Cornwall'),\n",
       " ('https://en.wikivoyage.org/wiki/Bodmin', 'Bodmin', 'Cornwall'),\n",
       " ('https://en.wikivoyage.org/wiki/Wadebridge', 'Wadebridge', 'Cornwall'),\n",
       " ('https://en.wikivoyage.org/wiki/Penzance', 'Penzance', 'Cornwall'),\n",
       " ('https://en.wikivoyage.org/wiki/Newquay', 'Newquay', 'Cornwall'),\n",
       " ('https://en.wikivoyage.org/wiki/St_Ives', 'St_Ives', 'Cornwall'),\n",
       " ('https://en.wikivoyage.org/wiki/Port_Isaac', 'Port_Isaac', 'Cornwall'),\n",
       " ('https://en.wikivoyage.org/wiki/Looe', 'Looe', 'Cornwall'),\n",
       " ('https://en.wikivoyage.org/wiki/Polperro', 'Polperro', 'Cornwall'),\n",
       " ('https://en.wikivoyage.org/wiki/Porthleven', 'Porthleven', 'Cornwall'),\n",
       " ('https://en.wikivoyage.org/wiki/East_Sussex', 'East_Sussex', 'East_Sussex'),\n",
       " ('https://en.wikivoyage.org/wiki/Brighton', 'Brighton', 'East_Sussex'),\n",
       " ('https://en.wikivoyage.org/wiki/Battle', 'Battle', 'East_Sussex'),\n",
       " ('https://en.wikivoyage.org/wiki/Hastings_(England)',\n",
       "  'Hastings_(England)',\n",
       "  'East_Sussex'),\n",
       " ('https://en.wikivoyage.org/wiki/Rye_(England)',\n",
       "  'Rye_(England)',\n",
       "  'East_Sussex'),\n",
       " ('https://en.wikivoyage.org/wiki/Seaford', 'Seaford', 'East_Sussex'),\n",
       " ('https://en.wikivoyage.org/wiki/Ashdown_Forest',\n",
       "  'Ashdown_Forest',\n",
       "  'East_Sussex')]"
      ]
     },
     "execution_count": 281,
     "metadata": {},
     "output_type": "execute_result"
    }
   ],
   "source": [
    "uk_destination_url_with_metadata"
   ]
  },
  {
   "cell_type": "code",
   "execution_count": 282,
   "id": "013c6ef8-b6f1-420c-adf0-29154f7e99ea",
   "metadata": {},
   "outputs": [
    {
     "name": "stderr",
     "output_type": "stream",
     "text": [
      "Fetching pages: 100%|##############################################################################################################################| 1/1 [00:00<00:00,  1.85it/s]\n"
     ]
    },
    {
     "name": "stdout",
     "output_type": "stream",
     "text": [
      "Importing: Cornwall\n"
     ]
    },
    {
     "name": "stderr",
     "output_type": "stream",
     "text": [
      "Fetching pages: 100%|##############################################################################################################################| 1/1 [00:01<00:00,  1.27s/it]\n"
     ]
    },
    {
     "name": "stdout",
     "output_type": "stream",
     "text": [
      "Importing: North_Cornwall\n"
     ]
    },
    {
     "name": "stderr",
     "output_type": "stream",
     "text": [
      "Fetching pages: 100%|##############################################################################################################################| 1/1 [00:01<00:00,  1.04s/it]\n"
     ]
    },
    {
     "name": "stdout",
     "output_type": "stream",
     "text": [
      "Importing: South_Cornwall\n"
     ]
    },
    {
     "name": "stderr",
     "output_type": "stream",
     "text": [
      "Fetching pages: 100%|##############################################################################################################################| 1/1 [00:01<00:00,  1.27s/it]\n"
     ]
    },
    {
     "name": "stdout",
     "output_type": "stream",
     "text": [
      "Importing: West_Cornwall\n"
     ]
    },
    {
     "name": "stderr",
     "output_type": "stream",
     "text": [
      "Fetching pages: 100%|##############################################################################################################################| 1/1 [00:01<00:00,  1.51s/it]\n"
     ]
    },
    {
     "name": "stdout",
     "output_type": "stream",
     "text": [
      "Importing: Tintagel\n"
     ]
    },
    {
     "name": "stderr",
     "output_type": "stream",
     "text": [
      "Fetching pages: 100%|##############################################################################################################################| 1/1 [00:01<00:00,  1.17s/it]\n"
     ]
    },
    {
     "name": "stdout",
     "output_type": "stream",
     "text": [
      "Importing: Bodmin\n"
     ]
    },
    {
     "name": "stderr",
     "output_type": "stream",
     "text": [
      "Fetching pages: 100%|##############################################################################################################################| 1/1 [00:01<00:00,  1.39s/it]\n"
     ]
    },
    {
     "name": "stdout",
     "output_type": "stream",
     "text": [
      "Importing: Wadebridge\n"
     ]
    },
    {
     "name": "stderr",
     "output_type": "stream",
     "text": [
      "Fetching pages: 100%|##############################################################################################################################| 1/1 [00:01<00:00,  1.43s/it]\n"
     ]
    },
    {
     "name": "stdout",
     "output_type": "stream",
     "text": [
      "Importing: Penzance\n"
     ]
    },
    {
     "name": "stderr",
     "output_type": "stream",
     "text": [
      "Fetching pages: 100%|##############################################################################################################################| 1/1 [00:02<00:00,  2.09s/it]\n"
     ]
    },
    {
     "name": "stdout",
     "output_type": "stream",
     "text": [
      "Importing: Newquay\n"
     ]
    },
    {
     "name": "stderr",
     "output_type": "stream",
     "text": [
      "Fetching pages: 100%|##############################################################################################################################| 1/1 [00:01<00:00,  1.19s/it]\n"
     ]
    },
    {
     "name": "stdout",
     "output_type": "stream",
     "text": [
      "Importing: St_Ives\n"
     ]
    },
    {
     "name": "stderr",
     "output_type": "stream",
     "text": [
      "Fetching pages: 100%|##############################################################################################################################| 1/1 [00:01<00:00,  1.41s/it]\n"
     ]
    },
    {
     "name": "stdout",
     "output_type": "stream",
     "text": [
      "Importing: Port_Isaac\n"
     ]
    },
    {
     "name": "stderr",
     "output_type": "stream",
     "text": [
      "Fetching pages: 100%|##############################################################################################################################| 1/1 [00:00<00:00,  1.10it/s]\n"
     ]
    },
    {
     "name": "stdout",
     "output_type": "stream",
     "text": [
      "Importing: Looe\n"
     ]
    },
    {
     "name": "stderr",
     "output_type": "stream",
     "text": [
      "Fetching pages: 100%|##############################################################################################################################| 1/1 [00:01<00:00,  1.17s/it]\n"
     ]
    },
    {
     "name": "stdout",
     "output_type": "stream",
     "text": [
      "Importing: Polperro\n"
     ]
    },
    {
     "name": "stderr",
     "output_type": "stream",
     "text": [
      "Fetching pages: 100%|##############################################################################################################################| 1/1 [00:01<00:00,  1.20s/it]\n"
     ]
    },
    {
     "name": "stdout",
     "output_type": "stream",
     "text": [
      "Importing: Porthleven\n"
     ]
    },
    {
     "name": "stderr",
     "output_type": "stream",
     "text": [
      "Fetching pages: 100%|##############################################################################################################################| 1/1 [00:01<00:00,  1.64s/it]\n"
     ]
    },
    {
     "name": "stdout",
     "output_type": "stream",
     "text": [
      "Importing: East_Sussex\n"
     ]
    },
    {
     "name": "stderr",
     "output_type": "stream",
     "text": [
      "Fetching pages: 100%|##############################################################################################################################| 1/1 [00:05<00:00,  5.93s/it]\n"
     ]
    },
    {
     "name": "stdout",
     "output_type": "stream",
     "text": [
      "Importing: Brighton\n"
     ]
    },
    {
     "name": "stderr",
     "output_type": "stream",
     "text": [
      "Fetching pages: 100%|##############################################################################################################################| 1/1 [00:00<00:00,  1.19it/s]\n"
     ]
    },
    {
     "name": "stdout",
     "output_type": "stream",
     "text": [
      "Importing: Battle\n"
     ]
    },
    {
     "name": "stderr",
     "output_type": "stream",
     "text": [
      "Fetching pages: 100%|##############################################################################################################################| 1/1 [00:02<00:00,  2.36s/it]\n"
     ]
    },
    {
     "name": "stdout",
     "output_type": "stream",
     "text": [
      "Importing: Hastings_(England)\n"
     ]
    },
    {
     "name": "stderr",
     "output_type": "stream",
     "text": [
      "Fetching pages: 100%|##############################################################################################################################| 1/1 [00:01<00:00,  1.86s/it]\n"
     ]
    },
    {
     "name": "stdout",
     "output_type": "stream",
     "text": [
      "Importing: Rye_(England)\n"
     ]
    },
    {
     "name": "stderr",
     "output_type": "stream",
     "text": [
      "Fetching pages: 100%|##############################################################################################################################| 1/1 [00:01<00:00,  1.07s/it]\n"
     ]
    },
    {
     "name": "stdout",
     "output_type": "stream",
     "text": [
      "Importing: Seaford\n"
     ]
    },
    {
     "name": "stderr",
     "output_type": "stream",
     "text": [
      "Fetching pages: 100%|##############################################################################################################################| 1/1 [00:01<00:00,  1.41s/it]\n"
     ]
    },
    {
     "name": "stdout",
     "output_type": "stream",
     "text": [
      "Importing: Ashdown_Forest\n"
     ]
    }
   ],
   "source": [
    "#Ingest content with metadata\n",
    "#Enriching chunks with related metadata\n",
    "for (url, destination, region) in uk_destination_url_with_metadata:\n",
    "    html_loader = AsyncHtmlLoader(url)\n",
    "    docs = html_loader.load()\n",
    "\n",
    "    docs_with_metadata = [\n",
    "        Document(page_content=d.page_content,\n",
    "                 metadata = {\n",
    "                     'source': url,\n",
    "                     'destination': destination,\n",
    "                     'region': region})\n",
    "                 for d in docs]\n",
    "    chunks = split_docs_into_chunks(docs_with_metadata)\n",
    "\n",
    "    print(f'Importing: {destination}')\n",
    "    uk_with_metadata_collection.add_documents(documents=chunks)"
   ]
  },
  {
   "cell_type": "code",
   "execution_count": 283,
   "id": "6a4af20f-f6f3-4cd6-a2f5-7bd6dc15c45f",
   "metadata": {},
   "outputs": [
    {
     "name": "stderr",
     "output_type": "stream",
     "text": [
      "Failed to send telemetry event CollectionQueryEvent: capture() takes 1 positional argument but 3 were given\n"
     ]
    }
   ],
   "source": [
    "# Q&A on Metadata-Enriched Collection\n",
    "# Querying with an explicit metadata filter\n",
    "question = \"Events or festivals\"\n",
    "metadata_retriever = uk_with_metadata_collection.as_retriever(search_kwargs={'k':2, 'filter':{'destination': 'Newquay'}})\n",
    "\n",
    "result_docs = metadata_retriever.invoke(question)\n"
   ]
  },
  {
   "cell_type": "code",
   "execution_count": 284,
   "id": "949d2807-eb43-4d56-afa2-d90df8c4989d",
   "metadata": {},
   "outputs": [
    {
     "data": {
      "text/plain": [
       "[Document(id='5f0d3398-0593-4bc3-8255-cf6bc80874a9', metadata={'destination': 'Newquay', 'region': 'Cornwall', 'source': 'https://en.wikivoyage.org/wiki/Newquay'}, page_content=\"## Do\\n\\n[edit]\\n\\n  * Cornish Film Festival. Held annually for two weeks each November around Newquay. (updated Jan 2024)\\n  * 50.415741-5.0914781 Newquay Golf Club, Tower Road, TR7 1LT, ☏ +44 1637 872091, info@newquaygolfclub.co.uk. 9AM-4PM. A semi-private golf club established in 1890. Total yardage Championship: 6141, Men: 5708, and Women: 5364. £31 for non-members. (updated Apr 2019)\\n\\n### Beaches\\n\\n[edit]\\n\\nFistral Beach\\n\\nNewquay is well known as a surfer's paradise. Therefore it offers plenty of\\nbeaches:\"),\n",
       " Document(id='2f170179-3129-44ba-be48-9c98d37881d6', metadata={'destination': 'Newquay', 'region': 'Cornwall', 'source': 'https://en.wikivoyage.org/wiki/Newquay'}, page_content='Hidden categories:\\n\\n  * Has custom banner\\n  * Has map markers\\n  * Airport listing\\n  * Has mapframe\\n  * Do listing with no coordinates\\n  * Sleep listing with no coordinates\\n  * North Cornwall\\n  * All destination articles\\n  * Outline cities\\n  * Outline articles\\n  * City articles\\n  * Has Geo parameter\\n  * Pages using the Kartographer extension\\n\\n  * This article is partly based on Creative Commons Attribution-ShareAlike 3.0 Licensed work from other websites. Details of contributors can be found in the article history.\\n  * Text is available under the Creative Commons Attribution-ShareAlike License; additional terms may apply. By using this site, you agree to the Terms of Use and Privacy Policy.\\n\\n  * Privacy policy\\n  * About Wikivoyage\\n  * Disclaimer\\n  * Code of Conduct\\n  * Developers\\n  * Statistics\\n  * Cookie statement\\n  * Mobile view\\n\\n  *   * \\n\\nSearch\\n\\nSearch\\n\\nToggle the table of contents\\n\\n2 languages Add topic\\n\\n  *[☏]: phone')]"
      ]
     },
     "execution_count": 284,
     "metadata": {},
     "output_type": "execute_result"
    }
   ],
   "source": [
    "# When you print the result, you will see that only chunks tagged with 'destination: Newquay' are returned. Pretty neat!!\n",
    "result_docs"
   ]
  },
  {
   "cell_type": "code",
   "execution_count": 285,
   "id": "4d8de303-1877-4548-b03e-a8e2e9d01e5a",
   "metadata": {},
   "outputs": [],
   "source": [
    "#Automatically generating metadata filter with selfqueryretriever\n",
    "#importing necessary libraries\n",
    "\n",
    "from langchain.chains.query_constructor.base import AttributeInfo\n",
    "from langchain.retrievers.self_query.base import SelfQueryRetriever \n",
    "from langchain_openai import ChatOpenAI\n"
   ]
  },
  {
   "cell_type": "code",
   "execution_count": 286,
   "id": "46fe2e76-3456-4025-8e58-2e6bfc527760",
   "metadata": {},
   "outputs": [],
   "source": [
    "#Next, define the metadata attributes to infer from the question:\n",
    "metadata_field_info = [\n",
    "    AttributeInfo(\n",
    "        name=\"destination\",\n",
    "        description=\"The specific UK destination to be searched\",\n",
    "        type=\"string\",\n",
    "    ),\n",
    "    AttributeInfo(\n",
    "        name=\"region\",\n",
    "        description=\"The name of the UK region to be searched\",\n",
    "        type=\"string\",\n",
    "        )\n",
    "]"
   ]
  },
  {
   "cell_type": "code",
   "execution_count": 23,
   "id": "507c9568-70bc-4e11-9501-3e0ef913aaff",
   "metadata": {},
   "outputs": [],
   "source": [
    "# Now set up the SelfQueryRetriever with question, without specifying a manual filter. \n",
    "question = \"Tell me about events or festivals in the UK town of Newquay\"\n",
    "\n",
    "llm = ChatOpenAI(model=\"gpt-4o-mini\", openai_api_key=OPENAI_API_KEY)\n",
    "\n",
    "self_query_retriever = SelfQueryRetriever.from_llm(\n",
    "    llm, uk_with_metadata_collection, question, metadata_field_info, verbose=True)\n"
   ]
  },
  {
   "cell_type": "code",
   "execution_count": 288,
   "id": "fd999b22-4682-47d5-a841-1d42f62b5fc5",
   "metadata": {},
   "outputs": [],
   "source": [
    "#testing with Local LLM\n",
    "llm = ChatOpenAI(\n",
    "    model=\"llama-2-7b-chat\",  # or the exact name from /v1/models\n",
    "    openai_api_base=\"http://localhost:1234/v1\",\n",
    "    openai_api_key=\"lm-studio\"  # dummy\n",
    ")\n",
    "\n",
    "self_query_retriever = SelfQueryRetriever.from_llm(\n",
    "    llm, uk_with_metadata_collection, question, metadata_field_info, verbose=True)\n",
    "\n"
   ]
  },
  {
   "cell_type": "code",
   "execution_count": 290,
   "id": "9269c4fe-52a7-41bd-9dc5-bb3d415aec65",
   "metadata": {},
   "outputs": [
    {
     "name": "stdout",
     "output_type": "stream",
     "text": [
      "content=\"\\nSouth Korea is a fascinating country with a rich culture and history. Here are some things you can do while visiting South Korea:\\n\\n1. Visit the Demilitarized Zone (DMZ): The DMZ is a buffer zone between North and South Korea, and it offers a unique glimpse into the country's complex history. You can see the border between the two countries, as well as various monuments and museums.\\n2. Explore Seoul's historic neighborhoods: Seoul has several historic neighborhoods that are worth exploring, such as Bukchon Hanok Village, which is home to traditional Korean houses called hanoks, and Gyeongbokgung Palace, which was built in the 14th century and offers a glimpse into Korea's royal past.\\n3. Enjoy Korean cuisine: Korean food is known for its bold flavors and spices, and there are many restaurants throughout the country that serve delicious dishes such as bibimbap (mixed rice bowl) and kimchi (spicy fermented cabbage).\\n4. Visit temples and shrines: Korea has a rich spiritual heritage, and there are numerous temples and shrines throughout the country that offer a glimpse into the country's religious history. Some of the most famous include Bulguksan Temple in Gyeongju and Seoul's Jogyesa Temple.\\n5. Take a K-pop tour: South Korea is home to the popular K-pop music scene, and there are many tours that allow visitors to learn about the history of K-pop and visit the studios where their favorite groups were formed.\\n6. Attend a traditional Korean festival: Korea has many festivals throughout the year, such as the Boryeong Mud Festival, which celebrates the country's famous mud, and the Seollal Lunar New Year, which is one of the most important holidays in Korea.\\n7. Visit the Jeju Island: Jeju Island is a beautiful island located off the southern coast of Korea, and it offers a unique glimpse into the country's natural beauty. The island is home to numerous beaches, waterfalls, and volcanic landscapes, as well as a unique culture that is distinct from the rest of Korea.\\n8. Take a stroll through Myeong-dong: Myeong-dong is one of Seoul's most famous shopping districts, and it offers a wide range of goods, from high-end fashion to street food. The area is also home to many department stores and traditional Korean markets.\\n9. Visit the National Museum of Korea: The National Museum of Korea is located in Seoul, and it offers a comprehensive overview of Korea's history and culture, from ancient times to the present day.\\n10. Learn about Korea's war history: South Korea has a complex history with Japan, and there are many museums and memorials dedicated to the country's war history. The War Memorial of Korea in Seoul is one of the most popular, and it offers a detailed look at the country's military history.\\nThese are just a few examples of the many things you can do while visiting South Korea. With its rich culture, delicious food, and stunning natural beauty, there's something for everyone to enjoy in this fascinating country.\" additional_kwargs={'refusal': None} response_metadata={'token_usage': {'completion_tokens': 738, 'prompt_tokens': 20, 'total_tokens': 758, 'completion_tokens_details': None, 'prompt_tokens_details': None}, 'model_name': 'llama-2-7b-chat', 'system_fingerprint': 'llama-2-7b-chat', 'id': 'chatcmpl-s3f4iakiyb98jfp2kq9kl', 'service_tier': None, 'finish_reason': 'stop', 'logprobs': None} id='run--01c23480-d018-427f-80db-3ef60e0ac587-0' usage_metadata={'input_tokens': 20, 'output_tokens': 738, 'total_tokens': 758, 'input_token_details': {}, 'output_token_details': {}}\n"
     ]
    }
   ],
   "source": [
    "result_example = llm.invoke(\"Things to do in South Korea\")\n",
    "print(result_example)"
   ]
  },
  {
   "cell_type": "code",
   "execution_count": null,
   "id": "a55027e2-0d03-451b-a77c-e90c75248919",
   "metadata": {},
   "outputs": [],
   "source": []
  },
  {
   "cell_type": "code",
   "execution_count": 24,
   "id": "966b01d0-e049-4f50-89e6-2918148facda",
   "metadata": {},
   "outputs": [],
   "source": [
    "#Invike the retriever with the question\n",
    "result_docs = self_query_retriever.invoke(question)"
   ]
  },
  {
   "cell_type": "code",
   "execution_count": 25,
   "id": "445b70b1-5ca9-4c56-8d7d-bf1b233b53a9",
   "metadata": {},
   "outputs": [
    {
     "data": {
      "text/plain": [
       "[Document(id='5ee83bb7-42e9-4200-8438-1bfe0712ed81', metadata={'destination': 'Newquay', 'region': 'Cornwall', 'source': 'https://en.wikivoyage.org/wiki/Newquay'}, page_content=\"## Do\\n\\n[edit]\\n\\n  * Cornish Film Festival. Held annually for two weeks each November around Newquay. (updated Jan 2024)\\n  * 50.415741-5.0914781 Newquay Golf Club, Tower Road, TR7 1LT, ☏ +44 1637 872091, info@newquaygolfclub.co.uk. 9AM-4PM. A semi-private golf club established in 1890. Total yardage Championship: 6141, Men: 5708, and Women: 5364. £31 for non-members. (updated Apr 2019)\\n\\n### Beaches\\n\\n[edit]\\n\\nFistral Beach\\n\\nNewquay is well known as a surfer's paradise. Therefore it offers plenty of\\nbeaches:\"),\n",
       " Document(id='8957edd5-7270-4f56-b387-58b7c4a8256f', metadata={'destination': 'Newquay', 'region': 'Cornwall', 'source': 'https://en.wikivoyage.org/wiki/Newquay'}, page_content=\"## Drink\\n\\n[edit]\\n\\nNewquay's town centre is home to a large number of pubs and bars.\\n\\n  * **The Central Inn** \\\\- Nice pub, if you are not bothered with the television screens playing MTV all the time. Serves good food.\\n\\n## Sleep\\n\\n[edit]\\n\\n### Dog Friendly\\n\\n[edit]\\n\\n  * Dog Friendly Accommodation (Dog Friendly Cottages). A large collection of specifically dog-friendly cottages and apartments Broad range of prices to suit budget. \\n\\n### Budget\\n\\n[edit]\\n\\n  * St Christopher’s Inns Newquay (Newquay Hostel), 35 Fore Street, Newquay, TR7 1HR, ☏ +44 163 785 91110, fax: +33 140 343 440, newquay@st-christophers.co.uk. Check-in: 2PM, check-out: 11AM. A rugged but well maintained hostel on the cliff above Towan Beach. Attached surf school and backpackers bar. £10.50 with breakfast included. \\n\\n### Mid-range\\n\\n[edit]\"),\n",
       " Document(id='1ce6ef0e-e503-4345-9dc8-c47546cada2a', metadata={'destination': 'Newquay', 'region': 'Cornwall', 'source': 'https://en.wikivoyage.org/wiki/Newquay'}, page_content='# Newquay\\n\\n## Contents\\n\\n  * 1 Understand\\n    * 1.1 Visitor information\\n  * 2 Get in\\n    * 2.1 By road\\n    * 2.2 By train\\n    * 2.3 By bus\\n    * 2.4 By plane\\n  * 3 Get around\\n  * 4 See\\n  * 5 Do\\n    * 5.1 Beaches\\n  * 6 Eat\\n    * 6.1 Budget\\n    * 6.2 Mid-range\\n    * 6.3 Splurge\\n  * 7 Drink\\n  * 8 Sleep\\n    * 8.1 Dog Friendly\\n    * 8.2 Budget\\n    * 8.3 Mid-range\\n    * 8.4 Splurge\\n  * 9 Connect\\n  * 10 Go next\\n\\nNewquay Harbour\\n\\n**Newquay** (Cornish: _Tewynblustri_), the surf capital of Great Britain is a\\nyouthful vibrant town in North Cornwall.\\n\\n## Understand\\n\\n[edit]\\n\\n### Visitor information\\n\\n[edit]\\n\\n  * Newquay Tourist Information Centre, ☏ +44 1637 854020. \\n\\n## Get in\\n\\n[edit]\\n\\n### By road\\n\\n[edit]\\n\\nFollow the M5 to Exeter, then take the A30 to Newquay. Leave this road near\\nIndian Queens and continue on the A39 and then A392 which takes you directly\\ninto the town.\\n\\n### By train\\n\\n[edit]'),\n",
       " Document(id='f0143aa1-0f94-4ff0-b5ab-f95215632980', metadata={'destination': 'Newquay', 'region': 'Cornwall', 'source': 'https://en.wikivoyage.org/wiki/Newquay'}, page_content=\"### Mid-range\\n\\n[edit]\\n\\n  * 50.41326-5.0855229 Concho Lounge, 16 Bank St. £10-25. (updated Feb 2023)\\n  * 50.414124-5.08675210 Bush Pepper, 6 Fore St. (updated Feb 2023)\\n  * 50.419086-5.0971311 The Fish House Fistral, 5, International Surfing Centre, Headland Rd. (updated Feb 2023)\\n  * 50.414317-5.07644912 The Fish Bar, Morfa Hall Flats. £30-40. (updated Feb 2023)\\n  * 50.3514-5.009713 Plume of Feathers, Mitchell TR8 5AX, ☏ +44 1872 510387. Great reviews for dining at this 16th-century pub with rooms just off A30. (updated Feb 2023)\\n\\n### Splurge\\n\\n[edit]\\n\\n  * 50.44446-5.04183814 Emily Scott Food, On the Beach, Watergate Bay. Tu-Sa noon-2:30PM, 6:30-9PM. Started as a pop-up but in 2021 became an established restaurant by the beach at Watergate Bay 2 miles east. (updated Feb 2023)\\n\\n## Drink\\n\\n[edit]\\n\\nNewquay's town centre is home to a large number of pubs and bars.\")]"
      ]
     },
     "execution_count": 25,
     "metadata": {},
     "output_type": "execute_result"
    }
   ],
   "source": [
    "result_docs"
   ]
  },
  {
   "cell_type": "code",
   "execution_count": 27,
   "id": "df328a8d-2b77-44b2-8066-81d3e1d0b986",
   "metadata": {},
   "outputs": [],
   "source": [
    "#Generating metadata filters with an LLM function call\n",
    "import datetime\n",
    "from typing import Literal, Optional, Tuple, List\n",
    "\n",
    "from pydantic import BaseModel, Field\n",
    "from langchain.chains.query_constructor.ir import(Comparator, Comparison, Operation, Operator, StructuredQuery)\n",
    "from langchain.retrievers.self_query.chroma import ChromaTranslator"
   ]
  },
  {
   "cell_type": "code",
   "execution_count": 29,
   "id": "c0e0dd82-3f5f-4bce-a674-374c6bc4924e",
   "metadata": {},
   "outputs": [],
   "source": [
    "class DestinationSearch(BaseModel):\n",
    "    \"\"\"Search over a vector database of tourist destinations.\"\"\"\n",
    "\n",
    "    content_search: str = Field(\n",
    "        \"\",\n",
    "        description=\"Similarity search query applied to tourist destinations.\",\n",
    "    )\n",
    "    destination: str = Field(\n",
    "        ...,\n",
    "        description=\"The specific UK destination to be searched\",\n",
    "    )\n",
    "    region: str = Field(\n",
    "        ...,\n",
    "        description=\"The name of the UK region to be searched\",\n",
    "    )\n",
    "\n",
    "    def pretty_print(self) -> None:\n",
    "        for field in self.__fields__:\n",
    "            if getattr(self, field) is not None and getattr(self,field) != getattr(self.__fields__[field], \"default\", None):\n",
    "                print(f\"{field}: {getattr(self, field)}\")"
   ]
  },
  {
   "cell_type": "code",
   "execution_count": 31,
   "id": "d92b7b27-8751-40a5-9008-5b3db81c79b8",
   "metadata": {},
   "outputs": [],
   "source": [
    "#Build a Chroma DB filter statement from the structured Query.\n",
    "#Next, create a function to convert a 'DestinationSearch' object into a filter compatible with ChromaDB\n",
    "#Building a ChromaDB specific filter statement from a structured query object \n",
    "\n",
    "def build_filter(destination_search: DestinationSearch):\n",
    "    comparisons = []\n",
    "\n",
    "    destination = destination_search.destination\n",
    "    region = destination_search.region\n",
    "\n",
    "    if destination and destination != '': # If destination exists, create an 'equality' operation\n",
    "        comparisons.append(\n",
    "            Comparison(\n",
    "                comparator=Comparator.EQ,\n",
    "                attribute=\"destination\",\n",
    "                value =destination,\n",
    "            )\n",
    "        )\n",
    "    if region and region != '': #If the region exists, create an 'equality' operation\n",
    "        comparisons.append(\n",
    "            Comparison(\n",
    "                comparator=Comparator.EQ,\n",
    "                attribute=\"region\",\n",
    "                value=region,\n",
    "            )\n",
    "        )\n",
    "    search_filter = Operation(operator=Operator.AND, arguments=comparisons) # create a combined search filter\n",
    "\n",
    "    chroma_filter = ChromaTranslator().visit_operation(search_filter) # Transform the filter into Chroma format. \n",
    "\n",
    "    return chroma_filter"
   ]
  },
  {
   "cell_type": "code",
   "execution_count": 35,
   "id": "76bb5019-a0e2-42ba-bca7-2dbfc9a820ed",
   "metadata": {},
   "outputs": [],
   "source": [
    "# Build a Query chain to convert the question into a structured query\n",
    "# Now, define the query generator chain to convert the user question into a structured query with metadata filters. \n",
    "\n",
    "from langchain_core.prompts import ChatPromptTemplate\n",
    "from langchain_openai import ChatOpenAI\n",
    "\n",
    "system_message = \"\"\"You are an expert at converting user questions into vector database queries. \\\n",
    "You have access to a database of tourist destinations. \\\n",
    "Given a question, return a database query optimized to retrieved the most relevant results.\n",
    "\n",
    "If there are acronym or words you are not familiar with, do not try to rephrase them.\"\"\"\n",
    "\n",
    "prompt = ChatPromptTemplate.from_messages(\n",
    "    [\n",
    "        (\"system\", system_message),\n",
    "        (\"human\", \"{question}\"),\n",
    "    ]\n",
    ")\n",
    "\n",
    "llm = ChatOpenAI(model=\"gpt-4o-mini\", openai_api_key=OPENAI_API_KEY)\n",
    "structured_llm = llm.with_structured_output(DestinationSearch, method=\"function_calling\")\n",
    "query_generator = prompt | structured_llm\n"
   ]
  },
  {
   "cell_type": "code",
   "execution_count": 38,
   "id": "2e5a16c3-3ada-4d82-b58f-5bf93ee76e5b",
   "metadata": {},
   "outputs": [],
   "source": [
    "# Let's try out the chain with the same question used earlier\n",
    "question = \"Tell me about events or festivals in the UK town of Newquay\"\n",
    "structured_query = query_generator.invoke(question) "
   ]
  },
  {
   "cell_type": "code",
   "execution_count": 39,
   "id": "921c57d9-9432-4123-b5f4-63e9aed19595",
   "metadata": {},
   "outputs": [
    {
     "data": {
      "text/plain": [
       "DestinationSearch(content_search='events festivals', destination='Newquay', region='Cornwall')"
      ]
     },
     "execution_count": 39,
     "metadata": {},
     "output_type": "execute_result"
    }
   ],
   "source": [
    "structured_query"
   ]
  },
  {
   "cell_type": "code",
   "execution_count": 40,
   "id": "95c39d34-27c4-44cc-93f5-fe8102136435",
   "metadata": {},
   "outputs": [],
   "source": [
    "search_filter = build_filter(structured_query)"
   ]
  },
  {
   "cell_type": "code",
   "execution_count": 41,
   "id": "4b21db14-a95a-4cd4-8216-cb1e84fdf067",
   "metadata": {},
   "outputs": [
    {
     "data": {
      "text/plain": [
       "{'$and': [{'destination': {'$eq': 'Newquay'}},\n",
       "  {'region': {'$eq': 'Cornwall'}}]}"
      ]
     },
     "execution_count": 41,
     "metadata": {},
     "output_type": "execute_result"
    }
   ],
   "source": [
    "search_filter"
   ]
  },
  {
   "cell_type": "code",
   "execution_count": 44,
   "id": "350bb571-0152-4c30-8869-e84fbc9ac046",
   "metadata": {},
   "outputs": [],
   "source": [
    "search_query = structured_query.content_search\n",
    "\n",
    "metadata_retriever = uk_with_metadata_collection.as_retriever(search_kwargs={'k':3, 'filter': search_filter})\n",
    "\n",
    "answer = metadata_retriever.invoke(search_query)"
   ]
  },
  {
   "cell_type": "code",
   "execution_count": 45,
   "id": "00b4a16e-3e5e-485f-a180-578f7e97d8f6",
   "metadata": {},
   "outputs": [
    {
     "data": {
      "text/plain": [
       "[Document(id='5ee83bb7-42e9-4200-8438-1bfe0712ed81', metadata={'destination': 'Newquay', 'region': 'Cornwall', 'source': 'https://en.wikivoyage.org/wiki/Newquay'}, page_content=\"## Do\\n\\n[edit]\\n\\n  * Cornish Film Festival. Held annually for two weeks each November around Newquay. (updated Jan 2024)\\n  * 50.415741-5.0914781 Newquay Golf Club, Tower Road, TR7 1LT, ☏ +44 1637 872091, info@newquaygolfclub.co.uk. 9AM-4PM. A semi-private golf club established in 1890. Total yardage Championship: 6141, Men: 5708, and Women: 5364. £31 for non-members. (updated Apr 2019)\\n\\n### Beaches\\n\\n[edit]\\n\\nFistral Beach\\n\\nNewquay is well known as a surfer's paradise. Therefore it offers plenty of\\nbeaches:\"),\n",
       " Document(id='fe697b13-0421-4ba7-99c1-5255e150ad69', metadata={'destination': 'Newquay', 'region': 'Cornwall', 'source': 'https://en.wikivoyage.org/wiki/Newquay'}, page_content=\"## Eat\\n\\n[edit]\\n\\n### Budget\\n\\n[edit]\\n\\nThere are lots of cheap eats in the town centre.\\n\\n  * 50.415513-5.0868851 Harbour Rest Cafe, 2 S Quay Hill. (updated Feb 2023)\\n  * 50.414042-5.0808662 Bunters, 15A East St. (updated Feb 2023)\\n  * 50.413988-5.0809823 Andy's Cafe, 15 East St. (updated Feb 2023)\\n  * 50.413981-5.0802984 Oceans, 1bh, 34 East St. (updated Feb 2023)\\n  * 50.41337-5.0862025 Loafers Sandwich Bar, 1A Gover Ln. (updated Feb 2023)\\n  * 50.418831-5.0665726 Kao Hom Thai Food, Henver Rd. (updated Feb 2023)\\n  * 50.41749-5.0641777 Oceans, 1bh, 34 East St. (updated Feb 2023)\\n  * 50.417024-5.0644678 The Cornish Coffee Bean, 14, Chester Court, Chester Rd. (updated Feb 2023)\\n\\n### Mid-range\\n\\n[edit]\"),\n",
       " Document(id='4aa35718-be91-41f8-bc7a-db1be0fc6d31', metadata={'destination': 'Newquay', 'region': 'Cornwall', 'source': 'https://en.wikivoyage.org/wiki/Newquay'}, page_content='## See\\n\\n[edit]\\n\\n  * 50.414578-5.0848411 Blue Reef Aquarium, Towan Promenade, TR7 1DU (right next to Towan beach), ☏ +44 1637 878134. Although it is small, it is well worth checking out. It has an octopus along with many other fish and marine animals, sea horses, starfish, sharks, etc. Also has a fish tank tunnel you can walk thorough. They have displayed a list of feeding hours and with a hand stamp you can get back in later the same day to see another feeding.\\n  * 50.3857-5.039842 Trerice, Kestle Mill, TR8 4PG, ☏ +44 1637 875404, trerice@nationaltrust.org.uk.  \\n  * 50.45565-4.998073 The Japanese Garden, St Mawgan, TR8 4ET (near Newquay Airport), ☏ +44 1637860116, info@japanesegarden.co.uk. Seasonal from March to mid November, 10:00-18:00. Small, but nice Japanese garden. (updated Jul 2024)\\n\\n## Do\\n\\n[edit]')]"
      ]
     },
     "execution_count": 45,
     "metadata": {},
     "output_type": "execute_result"
    }
   ],
   "source": [
    "answer"
   ]
  },
  {
   "cell_type": "code",
   "execution_count": 291,
   "id": "7d6a05c2-fedd-43d9-8bad-f53c45d36d0d",
   "metadata": {},
   "outputs": [],
   "source": [
    "#Generating a Structured SQL query\n",
    "from langchain_community.utilities import SQLDatabase\n",
    "from langchain_community.tools import QuerySQLDataBaseTool\n",
    "from langchain.chains import create_sql_query_chain\n",
    "from langchain_openai import ChatOpenAI\n",
    "from langchain_core.prompts import ChatPromptTemplate\n",
    "from langchain_core.output_parsers import StrOutputParser\n",
    "import getpass\n",
    "import os"
   ]
  },
  {
   "cell_type": "code",
   "execution_count": 292,
   "id": "93deadf1-b5e4-4e58-8f3f-f4fce385b778",
   "metadata": {},
   "outputs": [
    {
     "name": "stdout",
     "output_type": "stream",
     "text": [
      "['Accommodation', 'AccommodationType', 'Booking', 'Customer', 'Destination', 'Offer']\n"
     ]
    }
   ],
   "source": [
    "# Use the following code to connect to the database and list available tables:\n",
    "db = SQLDatabase.from_uri(\"sqlite:///UkBooking.db\")\n",
    "print(db.get_usable_table_names())"
   ]
  },
  {
   "cell_type": "code",
   "execution_count": 293,
   "id": "a652e9ee-2952-4629-8d86-635c080bd540",
   "metadata": {},
   "outputs": [
    {
     "data": {
      "text/plain": [
       "\"[(1, 1, 'Summer Special', 0.15, '2024-06-01', '2024-08-31'), (2, 2, 'Weekend Getaway', 0.1, '2024-09-01', '2024-12-31'), (3, 3, 'Early Bird Discount', 0.2, '2024-05-01', '2024-06-30'), (4, 4, 'Stay 3 Nights, Get 1 Free', 0.25, '2024-01-01', '2024-03-31'), (5, 5, 'Historic Stay Offer', 0.1, '2024-04-01', '2024-06-30'), (6, 6, 'Autumn Discount', 0.15, '2024-09-01', '2024-11-30'), (7, 7, 'Cottage Retreat Offer', 0.12, '2024-07-01', '2024-09-30'), (8, 8, 'City Break Deal', 0.08, '2024-10-01', '2024-12-31'), (9, 9, 'Luxury Villa Offer', 0.18, '2024-05-01', '2024-08-31'), (10, 10, 'Spa & Wellness Package', 0.2, '2024-04-01', '2024-07-31')]\""
      ]
     },
     "execution_count": 293,
     "metadata": {},
     "output_type": "execute_result"
    }
   ],
   "source": [
    "#Run a sample query to verify the connection:\n",
    "db.run(\"SELECT * FROM offer;\")\n",
    "#now you are set up to query the UKBooking database programatically using LangChain"
   ]
  },
  {
   "cell_type": "code",
   "execution_count": 294,
   "id": "cb4126d9-2517-4490-a2c8-3c9aaaf39df7",
   "metadata": {},
   "outputs": [],
   "source": [
    "# Generating SQL Queries from Natural Language\n",
    "#llm = ChatOpenAI(openai_api_key=OPENAI_API_KEY, model=\"gpt-4o-mini\", temperature=0)\n",
    "llm = ChatOpenAI(\n",
    "    model=\"llama-2-7b-chat\",  # or the exact name from /v1/models\n",
    "    openai_api_base=\"http://localhost:1234/v1\",\n",
    "    openai_api_key=\"lm-studio\", # dummy\n",
    "    temperature=0\n",
    ")\n",
    "sql_query_gen_chain = create_sql_query_chain(llm, db)\n",
    "response = sql_query_gen_chain.invoke({\"question\": \"Give me some offers for Cardiff, including the hotel name\"})"
   ]
  },
  {
   "cell_type": "code",
   "execution_count": 295,
   "id": "f54589dd-ac8e-4b43-ba40-fa34bc217aaf",
   "metadata": {},
   "outputs": [
    {
     "name": "stdout",
     "output_type": "stream",
     "text": [
      "SELECT * FROM Offer \n",
      "JOIN Accommodation ON Offer.AccommodationId = Accommodation.AccommodationId \n",
      "AND DestinationId = '3' \n",
      "LIMIT 5;\n",
      "\n",
      "Result:\n",
      "\n",
      "OfferId\tAccommodationId\tOfferDescription\tDiscountRate\tStartDate\tEndDate\n",
      "1\t3\tEarly Bird Discount\t0.2\t2024-05-01\t2024-06-30\n",
      "2\t3\tSummer Special\t0.15\t2024-06-01\t2024-08-31\n",
      "3\t3\tWeekend Getaway\t0.1\t2024-09-01\t2024-12-31\n",
      "\n",
      "Answer: Here are some offers for Cardiff:\n",
      "Early Bird Discount (0.2) at The Grand Hotel, starting on May 1st and ending on June 30th.\n",
      "Summer Special (0.15) at Edinburgh B&B, starting on June 1st and ending on August 31st.\n",
      "Weekend Getaway (0.1) at Cardiff Camping, starting on September 1st and ending on December 31st.\n"
     ]
    }
   ],
   "source": [
    "print(response)"
   ]
  },
  {
   "cell_type": "code",
   "execution_count": 296,
   "id": "17068274-6af1-4c34-8c39-a94f0fec37e2",
   "metadata": {},
   "outputs": [],
   "source": [
    "clean_sql_prompt_template = \"\"\"You are an expert in SQL Lite. You are asked to fix badly formedSQL Lite queries,\n",
    "which might contain unneeded prefixes or suffixes. Given the following unclean SQL statement, transform it to a clean, \n",
    "excutable SQL statement for SQL lite. \n",
    "Only return an executable SQL statement which terminates with a semicolon. \n",
    "Do not return anything else. Do not include the language name or symbol like ```.\n",
    "\n",
    "Unclean SQL: {unclean_sql}\"\"\"\n",
    "\n",
    "clean_sql_prompt = ChatPromptTemplate.from_template(clean_sql_prompt_template)\n",
    "\n",
    "clean_sql_chain = clean_sql_prompt | llm\n",
    "\n",
    "full_sql_gen_chain = sql_query_gen_chain | clean_sql_chain | StrOutputParser()"
   ]
  },
  {
   "cell_type": "code",
   "execution_count": 297,
   "id": "29977d95-2587-4def-9f45-5c3d2e176aab",
   "metadata": {},
   "outputs": [
    {
     "name": "stdout",
     "output_type": "stream",
     "text": [
      "\n",
      "SELECT * FROM Accommodation WHERE Address = ('Cardiff Bay, Cardiff');\n"
     ]
    }
   ],
   "source": [
    "#Let's try out this full chain with a sample question and verify the output\n",
    "question = \"Give me some offers for Cardiff, including the accomodation name\"\n",
    "\n",
    "response = full_sql_gen_chain.invoke({\"question\": question})\n",
    "\n",
    "print(response)\n",
    "# this approach ensures the SQL statement is correctly formatted and ready to execute against the database. "
   ]
  },
  {
   "cell_type": "code",
   "execution_count": 298,
   "id": "9327d7e6-aaee-4a3c-8d58-46cd4c212e22",
   "metadata": {},
   "outputs": [],
   "source": [
    "# Executing the SQL query\n",
    "# Now, let's create a chain to generate and execute SQL queries\n",
    "sql_query_exec_chain = QuerySQLDataBaseTool(db=db)\n",
    "\n",
    "sql_query_gen_and_exec_chain = full_sql_gen_chain | sql_query_exec_chain | StrOutputParser()\n",
    "\n",
    "response = sql_query_gen_and_exec_chain.invoke({\"question\": question})"
   ]
  },
  {
   "cell_type": "code",
   "execution_count": 299,
   "id": "03768e50-6098-43b5-a3ea-6c1546d2c709",
   "metadata": {},
   "outputs": [
    {
     "name": "stdout",
     "output_type": "stream",
     "text": [
      "Error: (sqlite3.OperationalError) near \"The\": syntax error\n",
      "[SQL: \n",
      "The clean, executable SQL statement for the given unclean SQL is:\n",
      "SELECT * FROM Offer \n",
      "JOIN Accommodation ON Offer.AccommodationId = Accommodation.AccommodationId \n",
      "WHERE Accommodation.DestinationId = 3 \n",
      "AND Offer.StartDate <= '2024-09-01' \n",
      "AND Offer.EndDate >= '2024-06-01';\n",
      "\n",
      "Note: The semicolon at the end of the statement is required to terminate the query.]\n",
      "(Background on this error at: https://sqlalche.me/e/20/e3q8)\n"
     ]
    }
   ],
   "source": [
    "print(response)"
   ]
  },
  {
   "cell_type": "code",
   "execution_count": 91,
   "id": "b7429c2c-35be-4a16-a6a6-dcd30fe0c0c1",
   "metadata": {},
   "outputs": [],
   "source": [
    "from langchain.schema.runnable import RunnableMap\n",
    "\n",
    "final_answer_prompt_template = \"\"\"\n",
    "You are a chatbot which is specialized in answering user question based on SQL query results. \n",
    "Try to answer the question based on SQL query results that is returned from a preceeding chain. \n",
    "\n",
    "context: {context}\n",
    "question: {question}\n",
    "\"\"\"\n",
    "\n",
    "final_answer_prompt = ChatPromptTemplate.from_template(final_answer_prompt_template)\n",
    "\n",
    "final_answer_gen_chain = (\n",
    "    RunnableMap({\n",
    "        \"context\": sql_query_gen_and_exec_chain,\n",
    "        \"question\": RunnablePassthrough(),\n",
    "    })\n",
    "    | final_answer_prompt\n",
    "    | llm\n",
    "    | StrOutputParser()\n",
    ")\n",
    "\n"
   ]
  },
  {
   "cell_type": "code",
   "execution_count": 92,
   "id": "e74a199b-3660-4c9a-850c-38d30612e293",
   "metadata": {},
   "outputs": [],
   "source": [
    "final_response = final_answer_gen_chain.invoke({\"question\": question})"
   ]
  },
  {
   "cell_type": "code",
   "execution_count": 93,
   "id": "347e78e1-eb06-47ce-b22f-1e8ba70310f1",
   "metadata": {},
   "outputs": [
    {
     "name": "stdout",
     "output_type": "stream",
     "text": [
      "Based on the SQL query results, the offer available for Cardiff is the \"Early Bird Discount\" with a discount of 20% at \"Cardiff Camping.\"\n"
     ]
    }
   ],
   "source": [
    "print(final_response)"
   ]
  },
  {
   "cell_type": "code",
   "execution_count": 127,
   "id": "d1755bec-689d-42e9-a02d-7f5dec51ecb8",
   "metadata": {},
   "outputs": [],
   "source": [
    "db = SQLDatabase.from_uri(\"sqlite:///UkBooking.db\")"
   ]
  },
  {
   "cell_type": "code",
   "execution_count": 128,
   "id": "5285f75c-42a0-4130-a47c-99d1b165f0a8",
   "metadata": {},
   "outputs": [],
   "source": [
    "embeddings_model= OpenAIEmbeddings()"
   ]
  },
  {
   "cell_type": "code",
   "execution_count": 129,
   "id": "30a33be0-9763-4418-b4e0-947436a24c27",
   "metadata": {},
   "outputs": [],
   "source": [
    "first_names_resultset_str = db.run('SELECT FirstName FROM Customer')\n",
    "first_names = [fn[0] for fn in eval(first_names_resultset_str)]"
   ]
  },
  {
   "cell_type": "code",
   "execution_count": 130,
   "id": "2be8427a-6fd4-46e4-8145-f965b36f0017",
   "metadata": {},
   "outputs": [],
   "source": [
    "first_names_embeddings = embeddings_model.embed_documents(first_names)"
   ]
  },
  {
   "cell_type": "code",
   "execution_count": 131,
   "id": "03e692a2-939d-4c86-8a6e-1513cdb5feb4",
   "metadata": {},
   "outputs": [],
   "source": [
    "fn_emb = zip(first_names, first_names_embeddings)"
   ]
  },
  {
   "cell_type": "code",
   "execution_count": 315,
   "id": "d32f37e2-7784-443a-aedd-a68bdf66bf1d",
   "metadata": {},
   "outputs": [],
   "source": [
    "# Chain routing\n",
    "# Setting Up data Retriever\n",
    "from typing import Literal\n",
    "from langchain_core.prompts import ChatPromptTemplate\n",
    "from langchain_openai import ChatOpenAI\n",
    "from pydantic import BaseModel, Field\n",
    "from langchain.schema.runnable import RunnableLambda\n"
   ]
  },
  {
   "cell_type": "code",
   "execution_count": 316,
   "id": "b283e127-67b5-4c58-9ad9-24f47a9f9d64",
   "metadata": {},
   "outputs": [],
   "source": [
    "#Now create the corresponding retriever chains. \n",
    "tourist_info_retriever_chain = RunnableLambda(lambda x: x['question']) | uk_with_metadata_collection.as_retriever(search_kwargs={'k':2})\n",
    "\n",
    "uk_accommodation_retriever_chain = full_sql_gen_chain | sql_query_exec_chain | StrOutputParser()"
   ]
  },
  {
   "cell_type": "code",
   "execution_count": 317,
   "id": "a1d0387a-c71c-4efe-ae2e-174d6371084c",
   "metadata": {},
   "outputs": [],
   "source": [
    "# Setting Up the Query Router\n",
    "# Next we wqill build router to direct user questions to one of these retriever chains.\n",
    "\n",
    "class RouteQuery(BaseModel):\n",
    "    \"\"\"Route a user question to the most relevant datasource.\"\"\"\n",
    "\n",
    "    datasource: Literal[\"tourist_info_store\",\"uk_booking_db\"] = Field(\n",
    "        ...,\n",
    "        description=\"Given a user question, route it either to a tourist info vector store or a UK accommodation booking relational database.\",)\n",
    "\n",
    "#llm = ChatOpenAI(openai_api_key = OPENAI_API_KEY, model = \"gpt-4o-mini\")\n",
    "llm = ChatOpenAI(\n",
    "    model=\"google/gemma-3-12b\",  # or the exact name from /v1/models\n",
    "    openai_api_base=\"http://localhost:1234/v1\",\n",
    "    openai_api_key=\"lm-studio\"  # dummy\n",
    ")\n",
    "structured_llm_router = llm.with_structured_output(RouteQuery) #Structured router which uses LLM function calls"
   ]
  },
  {
   "cell_type": "code",
   "execution_count": 318,
   "id": "c2462d42-9979-43c6-9837-732bdedb7733",
   "metadata": {},
   "outputs": [],
   "source": [
    "system = \"\"\"You are an expert at routing a user question to a toursit info vector store \n",
    "or to an UK accommodation booking relational database.\n",
    "The vector store contains tourist information about UK detinations.\n",
    "Use the vectorstore for general tourist information questions on UK destinations.\n",
    "For questions about accommodation availibility or booking, use the UK booking database.\"\"\"\n",
    "\n",
    "route_prompt = ChatPromptTemplate.from_messages(\n",
    "    [\n",
    "        (\"system\", system),\n",
    "        (\"human\",\"{question}\"),\n",
    "    ]\n",
    ")\n",
    "\n",
    "question_router = route_prompt | structured_llm_router"
   ]
  },
  {
   "cell_type": "code",
   "execution_count": 319,
   "id": "9f095599-9975-41e2-8d27-91e57a965603",
   "metadata": {},
   "outputs": [
    {
     "name": "stdout",
     "output_type": "stream",
     "text": [
      "datasource='uk_booking_db'\n"
     ]
    }
   ],
   "source": [
    "#testing the router chain\n",
    "#Let's start the router chain with a question tourist information and another about accommodation booking\n",
    "selected_data_source = question_router.invoke(\n",
    "    {\"question\": \"Have you got any offers in Brighton?\"}\n",
    ")\n",
    "\n",
    "print(selected_data_source)\n"
   ]
  },
  {
   "cell_type": "code",
   "execution_count": 320,
   "id": "eedd6faf-f081-4dec-a714-a86f399a86bb",
   "metadata": {},
   "outputs": [
    {
     "name": "stdout",
     "output_type": "stream",
     "text": [
      "datasource='tourist_info_store'\n"
     ]
    }
   ],
   "source": [
    "# Then test with a toursit-related question:\n",
    "selected_data_source = question_router.invoke(\n",
    "    {\"question\": \"Where are the best beaches in Cornwall?\"}\n",
    ")\n",
    "\n",
    "print(selected_data_source)"
   ]
  },
  {
   "cell_type": "code",
   "execution_count": 321,
   "id": "f82f77f6-8237-4c91-b830-383cd1f47a8b",
   "metadata": {},
   "outputs": [],
   "source": [
    "# Setting up the retriever chooser\n",
    "# Now let's implement the function to select the correct retriever based on the chosen data source.\n",
    "retriever_chains = {\n",
    "    'tourist_info_store': tourist_info_retriever_chain,\n",
    "    'uk_booking_db': uk_accommodation_retriever_chain\n",
    "}\n",
    "\n",
    "def retriever_chooser(question):\n",
    "    selected_data_source = question_router.invoke({\"question\": question})\n",
    "\n",
    "    return retriever_chains[selected_data_source.datasource]"
   ]
  },
  {
   "cell_type": "code",
   "execution_count": 322,
   "id": "7340c5e7-85a1-413f-8b53-8cbaa6683eeb",
   "metadata": {},
   "outputs": [
    {
     "name": "stdout",
     "output_type": "stream",
     "text": [
      "first=RunnableLambda(lambda x: x['question']) middle=[] last=VectorStoreRetriever(tags=['Chroma', 'OpenAIEmbeddings'], vectorstore=<langchain_chroma.vectorstores.Chroma object at 0x000001BCE600AD90>, search_kwargs={'k': 2})\n"
     ]
    }
   ],
   "source": [
    "# Let's test the retriever chooser function with a sample question:\n",
    "chosen = retriever_chooser('Tell me about events or festivals in the UK toen of Newquay')\n",
    "\n",
    "print(chosen)"
   ]
  },
  {
   "cell_type": "code",
   "execution_count": null,
   "id": "3b9bb5c4-de66-499c-ab56-2f219df1ede0",
   "metadata": {},
   "outputs": [],
   "source": [
    "# Integrating the Chain Router into a Full RAG Chain. "
   ]
  },
  {
   "cell_type": "code",
   "execution_count": 323,
   "id": "c1d7a1ad-d73e-42cf-9c93-946ecd5f7aee",
   "metadata": {},
   "outputs": [],
   "source": [
    "from langchain_core.runnables import RunnablePassthrough\n",
    "\n",
    "rag_prompt_template = \"\"\"\n",
    "Given a question and some context, answer the question.\n",
    "If you get a structured context, like a tuple, try to infer the meaning of the components: \n",
    "typically they refer to accommodation offers, and the number is a percentage (0.2 means 20%).\n",
    "If you do not know the answer, just say I do not know.\n",
    "\n",
    "\n",
    "Context: {context}\n",
    "Question: {question}\n",
    "\"\"\""
   ]
  },
  {
   "cell_type": "code",
   "execution_count": 324,
   "id": "b8aa1eac-005b-490e-9aee-a506ead54c89",
   "metadata": {},
   "outputs": [],
   "source": [
    "rag_prompt = ChatPromptTemplate.from_template(rag_prompt_template) \n",
    "\n",
    "def execute_rag_chain(question, chosen_retriever):\n",
    "    full_rag_chain = (\n",
    "        {\n",
    "            \"context\": {\"question\": RunnablePassthrough()} | chosen_retriever,#A\n",
    "            \"question\": RunnablePassthrough(),#B\n",
    "        }\n",
    "        | rag_prompt\n",
    "        | llm\n",
    "        | StrOutputParser()\n",
    "    )\n",
    "\n",
    "    return full_rag_chain.invoke(question)"
   ]
  },
  {
   "cell_type": "code",
   "execution_count": 325,
   "id": "4164d1d3-31ff-4da7-976d-d01636c8d5c0",
   "metadata": {},
   "outputs": [],
   "source": [
    "# Let's test the RAG chain with both an accommodation query and a tourist information query.\n",
    "# Example: Asking about accommodation offers\n",
    "question = 'Give me some offers for Cardiff, including the accommodation name'\n",
    "\n",
    "chosen_retriever = retriever_chooser(question)\n",
    "\n",
    "answer = execute_rag_chain(question, chosen_retriever)\n"
   ]
  },
  {
   "cell_type": "code",
   "execution_count": 326,
   "id": "78991bf0-1981-4c53-8183-2c2e20169fdd",
   "metadata": {},
   "outputs": [
    {
     "name": "stdout",
     "output_type": "stream",
     "text": [
      "I do not know. The provided context does not contain information about Cardiff. It only includes details for Newquay and St Ives.\n"
     ]
    }
   ],
   "source": [
    "print(answer)"
   ]
  },
  {
   "cell_type": "code",
   "execution_count": 327,
   "id": "08cc4b9e-3b21-42de-bea2-c72936daf39f",
   "metadata": {},
   "outputs": [],
   "source": [
    "# Example: Asking about Tourist Information\n",
    "question_2 = 'Tell me about events or festivals in the UK town of Newquay'\n",
    "\n",
    "chosen_retriever_2 = retriever_chooser(question_2)\n",
    "\n",
    "answer_2 = execute_rag_chain(question_2, chosen_retriever_2)"
   ]
  },
  {
   "cell_type": "code",
   "execution_count": 328,
   "id": "87e5c3d7-8676-43ba-ac66-33b9a9216c21",
   "metadata": {},
   "outputs": [
    {
     "name": "stdout",
     "output_type": "stream",
     "text": [
      "The Cornish Film Festival is held annually each November around Newquay. Also, Cornwall, in particular Newquay, is the UK’s surfing capital and hosts events like the UK championships or Boardmasters festival.\n"
     ]
    }
   ],
   "source": [
    "print(answer_2)"
   ]
  },
  {
   "cell_type": "code",
   "execution_count": 329,
   "id": "43d3c2b6-20eb-4561-a2e5-7116a1d9d805",
   "metadata": {},
   "outputs": [],
   "source": [
    "# from Retrieval Post-Processing \n",
    "# Generating multiple queries\n",
    "\n",
    "from langchain_core.prompts import ChatPromptTemplate\n",
    "from typing import List\n",
    "from langchain_core.output_parsers import BaseOutputParser\n",
    "from pydantic import BaseModel, Field\n"
   ]
  },
  {
   "cell_type": "code",
   "execution_count": 330,
   "id": "9854d614-e3bf-4fe8-8114-00de58cf3428",
   "metadata": {},
   "outputs": [],
   "source": [
    "multi_query_gen_prompt_template = \"\"\"\n",
    "You are an AI language model assistant. Your task is to generate five different versions of the\n",
    "given user question to retrieve relevant documents from vector database. \n",
    "By generating multiple perspectives on the user question, your goal is to help the user overcome \n",
    "some of the limitations of the distance-based similarity search.\n",
    "Original question: {question}\n",
    "\"\"\"\n",
    "\n",
    "multi_query_gen_prompt = ChatPromptTemplate.from_template(multi_query_gen_prompt_template)"
   ]
  },
  {
   "cell_type": "code",
   "execution_count": 347,
   "id": "d497d958-6b3a-4770-88f8-65eef86c8dc6",
   "metadata": {},
   "outputs": [],
   "source": [
    "class LineListOutputParser(BaseOutputParser[List[str]]):\n",
    "    \"\"\"Parse out a question from each output line.\"\"\"\n",
    "\n",
    "    def parse(self, text: str) -> List[str]:\n",
    "        lines = text.strip().split(\"\\n\")\n",
    "        return list(filter(None, lines))\n",
    "\n",
    "questions_parser = LineListOutputParser()\n",
    "\n",
    "#llm = ChatOpenAI(model=\"gpt-4o\", openai_api_key = OPENAI_API_KEY)\n",
    "llm = ChatOpenAI(\n",
    "    model=\"google/gemma-3-12b\",  # or the exact name from /v1/models\n",
    "    openai_api_base=\"http://localhost:1234/v1\",\n",
    "    openai_api_key=\"lm-studio\",  # dummy\n",
    "    temperature=0.8\n",
    ")\n",
    "\n",
    "multi_query_gen_chain = multi_query_gen_prompt | llm | questions_parser"
   ]
  },
  {
   "cell_type": "code",
   "execution_count": 348,
   "id": "078ca82a-7572-454c-9405-efcf34930126",
   "metadata": {},
   "outputs": [],
   "source": [
    "question = \"Tell me about events or festivals in the UK town of Newquay\""
   ]
  },
  {
   "cell_type": "code",
   "execution_count": 349,
   "id": "d217edc9-4b76-47cf-b80b-da00846ee469",
   "metadata": {},
   "outputs": [],
   "source": [
    "test_response = multi_query_gen_chain.invoke(question)"
   ]
  },
  {
   "cell_type": "code",
   "execution_count": 351,
   "id": "5d2c81b0-51d6-4d8e-a927-eff4266795dd",
   "metadata": {},
   "outputs": [
    {
     "name": "stdout",
     "output_type": "stream",
     "text": [
      "['Okay, here are five different versions of the original question \"Tell me about events or festivals in the UK town of Newquay,\" designed to retrieve potentially relevant documents from a vector database, aiming for broader coverage than a simple similarity search might achieve. I\\'ve included explanations after each version outlining *why* it\\'s different and what kinds of results it might pull back:', '**1. \"Newquay Cornwall tourism calendar\"**', '*   **Rationale:** This reframes the question to focus on a structured resource – a tourism calendar. It’s likely that official websites or brochures will use this phrase.  It shifts from *asking for information* to requesting a specific document type.', '*   **Expected Results:** Documents like links to the Newquay Tourism website, PDF calendars of events, promotional materials geared towards tourists, and potentially blog posts about planning a trip to Newquay.', '**2. \"What\\'s happening in Newquay this year?\" (or \"...in 2024?\")**', '*   **Rationale:** This is more conversational and emphasizes *recency*. It moves away from the broader term \"events or festivals\" and focuses on current happenings, which might capture short-term pop-ups or less formally organized activities that wouldn\\'t necessarily be labelled as a “festival”. Adding a year (e.g., 2024) further clarifies this need for recent information.', '*   **Expected Results:** Articles about upcoming events, social media posts announcing temporary exhibitions or markets, local news stories highlighting current happenings, and potentially forum discussions mentioning specific dates.', '**3. \"Newquay annual celebrations\"**', '*   **Rationale:** This narrows the scope to *recurring* events.  The phrase “annual celebrations” targets established traditions and festivals that happen year after year. It reduces the chance of retrieving one-off or sporadic occurrences.', '*   **Expected Results:** Information on established festivals like Boardmasters, Newquay Christmas lights switch-on events, annual surf competitions, and any other regularly scheduled activities with a strong tradition in Newquay.', '**4. \"Newquay leisure activities family friendly\"**', '*   **Rationale:** This broadens the scope beyond just “events or festivals.” It focuses on *types* of activities that might be considered attractions and specifies a target audience (families).  This can retrieve things that aren’t formally classified as events but are still draws for visitors.', '*   **Expected Results:** Documents about beaches, parks, surfing lessons, family-friendly restaurants, amusement arcades – anything that would appeal to families visiting Newquay, even if it isn\\'t a specific \"event.\"', '**5. \"Newquay visitor guides and attractions\"**', '*   **Rationale:** This moves away from the event/festival focus altogether and looks for broader information about what visitors can *do* in Newquay. It aims at more general resources that might *mention* events alongside other attractions.', '*   **Expected Results:**  PDF visitor guides, website pages listing attractions (including potential events), blog posts about things to do in Newquay, reviews of local businesses, and potentially even maps highlighting points of interest.', \"By using these varied queries, you increase the chance of getting a more complete picture of what's on offer in Newquay. Good luck!\"]\n"
     ]
    }
   ],
   "source": [
    "print(test_response)"
   ]
  },
  {
   "cell_type": "code",
   "execution_count": 352,
   "id": "57f7753c-0a2b-4579-84c3-a3573a5ad87e",
   "metadata": {},
   "outputs": [],
   "source": [
    "#Reciprocal Rank Fusion Algorithm\n",
    "def reciprocal_rank_fusion(results_groups: list[list], k=60):\n",
    "    \"\"\"Reciprocal_rank_fusion that takes multiple groups of ranked documents\n",
    "    and an optional parameter k used in the Reciprocal Rank Fusion (RRF) formula \"\"\"\n",
    "\n",
    "    indexed_results = {}\n",
    "\n",
    "    for group_id, results_group in enumerate(results_groups):\n",
    "        for local_rank, doc in enumerate(results_group):\n",
    "            indexed_results[(group_id, local_rank)] = doc\n",
    "\n",
    "    fused_scores = {}\n",
    "\n",
    "    for key, doc in indexed_results.items():\n",
    "        group_id, local_rank = key\n",
    "\n",
    "        if key not in fused_scores:\n",
    "            fused_scores[key] = 0\n",
    "\n",
    "        doc_current_score = fused_scores[key]\n",
    "        fused_scores[key] += 1 / (local_rank + k)\n",
    "\n",
    "        reranked_results = [\n",
    "            (indexed_results[key], score)\n",
    "            for key, score in sorted(fused_scores.items(), key=lambda x: x[1], reverse=True)\n",
    "        ]\n",
    "\n",
    "        return reranked_results"
   ]
  },
  {
   "cell_type": "code",
   "execution_count": 353,
   "id": "6d7f1adc-b947-43e4-8a11-e01a217a187f",
   "metadata": {},
   "outputs": [],
   "source": [
    "retriever = uk_with_metadata_collection.as_retriever(search_kwargs={'k':3})\n",
    "top_three_results = RunnableLambda(lambda x: x[0:3])\n",
    "\n",
    "rag_fusion_retrieval_chain = multi_query_gen_chain | retriever.map() | reciprocal_rank_fusion | top_three_results"
   ]
  },
  {
   "cell_type": "code",
   "execution_count": 354,
   "id": "a7c76afa-e59d-4f83-88d9-74a2b94f980a",
   "metadata": {},
   "outputs": [],
   "source": [
    "docs = rag_fusion_retrieval_chain.invoke({\"question\": question})"
   ]
  },
  {
   "cell_type": "code",
   "execution_count": 355,
   "id": "23a57a0c-d6ca-4371-9ee5-5052bda6dc73",
   "metadata": {},
   "outputs": [
    {
     "data": {
      "text/plain": [
       "[(Document(id='c95d8d0f-0a4c-4342-a0fd-8e60736dfca1', metadata={'destination': 'Newquay', 'region': 'Cornwall', 'source': 'https://en.wikivoyage.org/wiki/Newquay'}, page_content='# Newquay\\n\\n## Contents\\n\\n  * 1 Understand\\n    * 1.1 Visitor information\\n  * 2 Get in\\n    * 2.1 By road\\n    * 2.2 By train\\n    * 2.3 By bus\\n    * 2.4 By plane\\n  * 3 Get around\\n  * 4 See\\n  * 5 Do\\n    * 5.1 Beaches\\n  * 6 Eat\\n    * 6.1 Budget\\n    * 6.2 Mid-range\\n    * 6.3 Splurge\\n  * 7 Drink\\n  * 8 Sleep\\n    * 8.1 Dog Friendly\\n    * 8.2 Budget\\n    * 8.3 Mid-range\\n    * 8.4 Splurge\\n  * 9 Connect\\n  * 10 Go next\\n\\nNewquay Harbour\\n\\n**Newquay** (Cornish: _Tewynblustri_), the surf capital of Great Britain is a\\nyouthful vibrant town in North Cornwall.\\n\\n## Understand\\n\\n[edit]\\n\\n### Visitor information\\n\\n[edit]\\n\\n  * Newquay Tourist Information Centre, ☏ +44 1637 854020. \\n\\n## Get in\\n\\n[edit]\\n\\n### By road\\n\\n[edit]\\n\\nFollow the M5 to Exeter, then take the A30 to Newquay. Leave this road near\\nIndian Queens and continue on the A39 and then A392 which takes you directly\\ninto the town.\\n\\n### By train\\n\\n[edit]'),\n",
       "  0.016666666666666666)]"
      ]
     },
     "execution_count": 355,
     "metadata": {},
     "output_type": "execute_result"
    }
   ],
   "source": [
    "docs"
   ]
  },
  {
   "cell_type": "code",
   "execution_count": 356,
   "id": "cf0acb75-16e8-49a8-a1c9-359f9d9170cc",
   "metadata": {},
   "outputs": [],
   "source": [
    "#Integrating the RAG Fusion Retrieval Chain into a RAG chain\n",
    "rag_prompt_template = \"\"\"\n",
    "Given a question and some context, answer the question.\n",
    "If you do not know the answer, just say I do not know. \n",
    "\n",
    "Context: {context}\n",
    "Question: {question}\n",
    "\"\"\"\n",
    "\n",
    "rag_prompt = ChatPromptTemplate.from_template(rag_prompt_template)"
   ]
  },
  {
   "cell_type": "code",
   "execution_count": 357,
   "id": "b587fa0b-d6d0-435e-a25f-514e7e3c3906",
   "metadata": {},
   "outputs": [],
   "source": [
    "rag_chain = (\n",
    "    {\n",
    "        \"context\": {\"question\": RunnablePassthrough()} | rag_fusion_retrieval_chain, # context is returned by the retriever after feeding\n",
    "        \"question\": RunnablePassthrough(),\n",
    "    }\n",
    "    | rag_prompt\n",
    "    | llm \n",
    "    | StrOutputParser()\n",
    ")"
   ]
  },
  {
   "cell_type": "code",
   "execution_count": 358,
   "id": "7821d921-0f87-43cc-82d7-367448cd72c1",
   "metadata": {},
   "outputs": [],
   "source": [
    "# Now let's test the complete RAG chain with an example question\n",
    "user_question = \"Can you give me some tips for a trip to Brighton?\"\n",
    "\n",
    "answer = rag_chain.invoke(user_question)"
   ]
  },
  {
   "cell_type": "code",
   "execution_count": 359,
   "id": "aac9bddc-4210-4c83-a4df-d49e5d569e49",
   "metadata": {},
   "outputs": [
    {
     "name": "stdout",
     "output_type": "stream",
     "text": [
      "This document provides a travel guide for Brighton. It covers topics like getting there, transportation within the city, things to see and do, places to eat and drink, accommodation options, safety, connectivity, and suggestions for onward travel. You can find information on these aspects by exploring the sections detailed in the table of contents (e.g., \"Get in,\" \"See,\" \"Eat,\" \"Sleep\").\n"
     ]
    }
   ],
   "source": [
    "print(answer)"
   ]
  },
  {
   "cell_type": "code",
   "execution_count": null,
   "id": "12172c08-b55e-4588-ad4e-bac70c549436",
   "metadata": {},
   "outputs": [],
   "source": [
    "#################\n",
    "### Chapter 11 ##\n",
    "#################"
   ]
  },
  {
   "cell_type": "code",
   "execution_count": 226,
   "id": "7cc65406-69ac-41fc-98fa-536fc59107c2",
   "metadata": {},
   "outputs": [
    {
     "name": "stdin",
     "output_type": "stream",
     "text": [
      "Enter your key here ········\n"
     ]
    }
   ],
   "source": [
    "import getpass\n",
    "from openai import OpenAI\n",
    "\n",
    "OPENAI_API_KEY = getpass.getpass('Enter your key here')"
   ]
  },
  {
   "cell_type": "code",
   "execution_count": 227,
   "id": "ee9aac3b-0ed1-4ee8-b5b9-584bb3b9826f",
   "metadata": {},
   "outputs": [],
   "source": [
    "client = OpenAI(api_key = OPENAI_API_KEY)"
   ]
  },
  {
   "cell_type": "code",
   "execution_count": 228,
   "id": "6e84f361-1efe-4bff-b585-b44075fb0765",
   "metadata": {},
   "outputs": [],
   "source": [
    "completion = client.chat.completions.create(\n",
    "    model=\"gpt-4o-mini\",\n",
    "    messages=[\n",
    "        {\"role\": \"system\", \"content\": \"You are a helpful AI assistant.\"},\n",
    "        {\"role\": \"user\", \"content\": \"How many Greek temples are there in Paestum?\"}\n",
    "    ],\n",
    "    temperature=0.7\n",
    ")"
   ]
  },
  {
   "cell_type": "code",
   "execution_count": 229,
   "id": "77819458-53e6-4961-9dfe-94ca9c480be0",
   "metadata": {},
   "outputs": [
    {
     "name": "stdout",
     "output_type": "stream",
     "text": [
      "Paestum, an ancient Greek city located in the Campania region of Italy, is renowned for its well-preserved Greek temples. There are three major temples in Paestum:\n",
      "\n",
      "1. **Temple of Hera (Basilica)** - This temple is one of the oldest and is dedicated to the goddess Hera.\n",
      "2. **Temple of Neptune (or Poseidon)** - This temple is notable for its size and architectural grandeur.\n",
      "3. **Temple of Athena** - This temple is smaller and dedicated to the goddess Athena.\n",
      "\n",
      "In total, Paestum is home to these three significant Greek temples that are among the best-preserved ancient Greek structures in the world.\n"
     ]
    }
   ],
   "source": [
    "print(completion.choices[0].message.content)"
   ]
  },
  {
   "cell_type": "code",
   "execution_count": 360,
   "id": "421cd74e-cfac-4b03-879c-07abb94b06a2",
   "metadata": {},
   "outputs": [
    {
     "name": "stdout",
     "output_type": "stream",
     "text": [
      "Paestum is an ancient city located in the region of Campania, Italy. It was a Greek colony and is famous for its well-preserved ancient Greek ruins, including three magnificent Doric temples.\n",
      "\n",
      "There are actually three Greek temples in Paestum:\n",
      "\n",
      "1. Temple of Neptune (also known as Basilica): This is the largest of the three temples and one of the best-preserved.\n",
      "2. Temple of Ceres (also known as the Hera I temple): This temple was dedicated to the goddess Ceres, but it's also believed to have been a temple of Hera.\n",
      "3. Temple of Athena: The smallest of the three temples.\n",
      "\n",
      "All three temples date back to the 6th century BC and are considered some of the best-preserved ancient Greek ruins outside of Greece itself.\n",
      "\n",
      "So, to answer your question, there are three Greek temples in Paestum!\n"
     ]
    }
   ],
   "source": [
    "import requests\n",
    "\n",
    "response = requests.post(\n",
    "    'http://localhost:11434/api/generate',\n",
    "    json={\n",
    "        'model': 'llama3.1:latest',\n",
    "        'prompt': 'How many Greek temples are there in Paestum?',\n",
    "        'stream': False\n",
    "    }\n",
    ")\n",
    "\n",
    "print(response.json()['response'])"
   ]
  },
  {
   "cell_type": "code",
   "execution_count": 273,
   "id": "28c12512-f3f8-44b6-88ec-a6f97ab38167",
   "metadata": {},
   "outputs": [
    {
     "name": "stdout",
     "output_type": "stream",
     "text": [
      "There are nine Greek temples in Paestum, although not all are fully standing. Here's a breakdown:\n",
      "\n",
      "*   **Three Doric Temples:** These are the most famous and best-preserved:\n",
      "    *   Temple of Hera (also known as Poseidon) - The largest temple at Paestum.\n",
      "    *   Temple of Neptune - A magnificent example of early Doric architecture.\n",
      "    *   Temple of Apollo - Smaller than the other two, but with beautiful sculptures.\n",
      "\n",
      "*   **Four Ionic Temples:** These are generally smaller and less well-preserved:\n",
      "    *   Basilica (originally a temple)\n",
      "    *   Temple of Cerere (dedicated to Demeter)\n",
      "    *   Temple of Diana (dedicated to Artemis)\n",
      "    *   Smaller Temple near the Heraion\n",
      "\n",
      "*   **Two Other Structures:** These are often considered temples, but their purpose is debated:\n",
      "    *   The Temple of Athena\n",
      "    *   A possible temple north of the city\n",
      "\n",
      "\n",
      "\n",
      "Paestum offers an extraordinary glimpse into ancient Greek architecture and religious practices.\n"
     ]
    }
   ],
   "source": [
    "from openai import OpenAI\n",
    "\n",
    "client = OpenAI(\n",
    "    base_url='http://localhost:1234/v1',  # 포트 1234로 변경\n",
    "    api_key=\"NO_KEY_NEEDED\"\n",
    ")\n",
    "\n",
    "completion = client.chat.completions.create(\n",
    "    model=\"google/gemma-3-12b\",  # LM Studio에서 로드한 모델명으로 변경\n",
    "    messages=[\n",
    "        {\"role\": \"system\", \"content\": \"You are a helpful AI assistant.\"},\n",
    "        {\"role\": \"user\", \"content\": \"How many Greek temples are there in Paestum?\"}\n",
    "    ],\n",
    "    temperature=0.7\n",
    ")\n",
    "\n",
    "print(completion.choices[0].message.content)\n"
   ]
  },
  {
   "cell_type": "code",
   "execution_count": 374,
   "id": "35c177fd-33a2-422c-b04c-14eb6272509a",
   "metadata": {},
   "outputs": [
    {
     "name": "stdout",
     "output_type": "stream",
     "text": [
      "The eight planets in our solar system, listed in order from closest to farthest from the Sun, are:\n",
      "\n",
      "1. Mercury\n",
      "2. Venus\n",
      "3. Earth\n",
      "4. Mars\n",
      "5. Jupiter\n",
      "6. Saturn\n",
      "7. Uranus\n",
      "8. Neptune\n",
      "\n",
      "Note: Pluto is no longer considered a planet, but is now classified as a dwarf planet.\n",
      "\n",
      "How may I assist you?"
     ]
    }
   ],
   "source": [
    "from openai import OpenAI\n",
    "\n",
    "client = OpenAI(\n",
    "    base_url='http://localhost:1234/v1',  # 포트 1234로 변경\n",
    "    api_key=\"NO_KEY_NEEDED\"\n",
    ")\n",
    "\n",
    "completion = client.chat.completions.create(\n",
    "    model= \"llama-2-7b-chat\",  #  # LM Studio에서 로드한 모델명으로 변경\n",
    "    messages=[\n",
    "        {\"role\": \"system\", \"content\": \"You are helpful AI assistant.\"},\n",
    "        {\"role\": \"user\", \"content\": \"What are the planets in the solar system?\"}\n",
    "    ],\n",
    "    temperature=0.7,\n",
    "    stream=True\n",
    ")\n",
    "\n",
    "for chunk in completion:\n",
    "    if chunk.choices[0].delta.content:\n",
    "        print(chunk.choices[0].delta.content, end='', flush=True)\n",
    "#print(completion.choices[0].message.content)"
   ]
  },
  {
   "cell_type": "code",
   "execution_count": null,
   "id": "85004943-4119-46d6-8d12-572961a2f646",
   "metadata": {},
   "outputs": [],
   "source": []
  },
  {
   "cell_type": "code",
   "execution_count": null,
   "id": "a3e52d8e-3488-4185-9ab3-48bf9d175f80",
   "metadata": {},
   "outputs": [],
   "source": []
  },
  {
   "cell_type": "code",
   "execution_count": null,
   "id": "3b3295f8-e8fa-49cd-a791-fd3412616bc3",
   "metadata": {},
   "outputs": [],
   "source": []
  },
  {
   "cell_type": "code",
   "execution_count": null,
   "id": "305c5846-9156-4d27-ad75-73b97192331b",
   "metadata": {},
   "outputs": [],
   "source": []
  },
  {
   "cell_type": "code",
   "execution_count": null,
   "id": "75174912-f145-4309-a143-3c63d9ae80e2",
   "metadata": {},
   "outputs": [],
   "source": []
  },
  {
   "cell_type": "code",
   "execution_count": null,
   "id": "2d1c297b-3b24-4be1-9fb2-584ba74c848b",
   "metadata": {},
   "outputs": [],
   "source": []
  },
  {
   "cell_type": "code",
   "execution_count": null,
   "id": "91fb14a3-15ea-48a1-b8a3-c8ce12f41a41",
   "metadata": {},
   "outputs": [],
   "source": []
  },
  {
   "cell_type": "code",
   "execution_count": null,
   "id": "128daae7-e640-4c83-8bd2-f744e7122b7f",
   "metadata": {},
   "outputs": [],
   "source": []
  }
 ],
 "metadata": {
  "kernelspec": {
   "display_name": "Python 3 (ipykernel)",
   "language": "python",
   "name": "python3"
  },
  "language_info": {
   "codemirror_mode": {
    "name": "ipython",
    "version": 3
   },
   "file_extension": ".py",
   "mimetype": "text/x-python",
   "name": "python",
   "nbconvert_exporter": "python",
   "pygments_lexer": "ipython3",
   "version": "3.11.7"
  }
 },
 "nbformat": 4,
 "nbformat_minor": 5
}
