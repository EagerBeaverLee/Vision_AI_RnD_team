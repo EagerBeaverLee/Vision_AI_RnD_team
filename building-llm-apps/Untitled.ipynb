{
 "cells": [
  {
   "cell_type": "code",
   "execution_count": 35,
   "id": "1d3846af-4255-4e07-b7c1-0bea7f6bf4e8",
   "metadata": {},
   "outputs": [
    {
     "name": "stdin",
     "output_type": "stream",
     "text": [
      "Enter your OpenAi_Api_Key ········\n"
     ]
    }
   ],
   "source": [
    "from openai import OpenAI\n",
    "import getpass\n",
    "\n",
    "OPENAI_API_KEY = getpass.getpass(\"Enter your OpenAi_Api_Key\")"
   ]
  },
  {
   "cell_type": "code",
   "execution_count": 36,
   "id": "448b220c-73b4-42e4-82b6-0cbbc85d2828",
   "metadata": {},
   "outputs": [],
   "source": [
    "client = OpenAI(api_key=OPENAI_API_KEY)"
   ]
  },
  {
   "cell_type": "code",
   "execution_count": 38,
   "id": "bf9a10c8-a5ad-40c8-9260-ae01d8e9fa77",
   "metadata": {},
   "outputs": [
    {
     "name": "stdout",
     "output_type": "stream",
     "text": [
      "Subject: Stay Vigilant Against Phishing Attacks\n",
      "\n",
      "Dear Team,\n",
      "\n",
      "As we continue to navigate our digital environment, it’s crucial to remain vigilant against phishing attacks. Always verify the sender's email address, look for any suspicious links, and never share personal or sensitive information without confirming the request's authenticity.\n",
      "\n",
      "Remember, if something seems off, it’s better to be cautious. Stay safe online!\n",
      "\n",
      "Best,  \n",
      "[Your Name]  \n",
      "[Your Position]  \n"
     ]
    }
   ],
   "source": [
    "prompt_input = \"\"\"Write a short message to remind users to be vigilant about phishing\n",
    "attacks.\"\"\"\n",
    "\n",
    "llm = client.chat.completions.create(\n",
    "  model=\"gpt-4o-mini\",\n",
    "  messages=[\n",
    "  {\"role\": \"system\", \"content\": \"You are a helpful assistant.\"},\n",
    "  {\"role\": \"user\", \"content\": prompt_input}\n",
    "  ],\n",
    "  temperature= 0.7,\n",
    "  max_tokens= 400\n",
    "  )\n",
    "\n",
    "print(llm.choices[0].message.content)"
   ]
  },
  {
   "cell_type": "code",
   "execution_count": 39,
   "id": "0c1d8383-070e-40b4-9695-b1f44f475c6c",
   "metadata": {},
   "outputs": [
    {
     "ename": "AttributeError",
     "evalue": "'ChatCompletion' object has no attribute 'invoke'",
     "output_type": "error",
     "traceback": [
      "\u001b[1;31m---------------------------------------------------------------------------\u001b[0m",
      "\u001b[1;31mAttributeError\u001b[0m                            Traceback (most recent call last)",
      "Cell \u001b[1;32mIn[39], line 44\u001b[0m\n\u001b[0;32m     35\u001b[0m few_shot_prompt \u001b[38;5;241m=\u001b[39m FewShotPromptTemplate(\n\u001b[0;32m     36\u001b[0m     examples\u001b[38;5;241m=\u001b[39mexamples,\n\u001b[0;32m     37\u001b[0m     example_prompt\u001b[38;5;241m=\u001b[39mexample_prompt, \n\u001b[0;32m     38\u001b[0m     suffix\u001b[38;5;241m=\u001b[39m\u001b[38;5;124m\"\u001b[39m\u001b[38;5;124mClassify the following numbers as Abra, Kadabra or Abra Kadabra:\u001b[39m\u001b[38;5;132;01m{comma_delimited_input_numbers}\u001b[39;00m\u001b[38;5;124m\"\u001b[39m,\n\u001b[0;32m     39\u001b[0m     input_variables\u001b[38;5;241m=\u001b[39m[\u001b[38;5;124m\"\u001b[39m\u001b[38;5;124mcomma_delimited_input_numbers\u001b[39m\u001b[38;5;124m\"\u001b[39m]\n\u001b[0;32m     40\u001b[0m )\n\u001b[0;32m     42\u001b[0m prompt_input \u001b[38;5;241m=\u001b[39m few_shot_prompt\u001b[38;5;241m.\u001b[39mformat(comma_delimited_input_numbers\u001b[38;5;241m=\u001b[39m\u001b[38;5;124m\"\u001b[39m\u001b[38;5;124m3, 4, 5, 7, 8, 10, 11, 13, 35.\u001b[39m\u001b[38;5;124m\"\u001b[39m)\n\u001b[1;32m---> 44\u001b[0m response \u001b[38;5;241m=\u001b[39m \u001b[43mllm\u001b[49m\u001b[38;5;241;43m.\u001b[39;49m\u001b[43minvoke\u001b[49m(prompt_input)\n\u001b[0;32m     46\u001b[0m \u001b[38;5;28mprint\u001b[39m(response\u001b[38;5;241m.\u001b[39mcontent)\n",
      "File \u001b[1;32md:\\ai팀\\github\\vision_ai_rnd_team\\building-llm-apps\\env_ch02\\lib\\site-packages\\pydantic\\main.py:991\u001b[0m, in \u001b[0;36mBaseModel.__getattr__\u001b[1;34m(self, item)\u001b[0m\n\u001b[0;32m    988\u001b[0m     \u001b[38;5;28;01mreturn\u001b[39;00m \u001b[38;5;28msuper\u001b[39m()\u001b[38;5;241m.\u001b[39m\u001b[38;5;21m__getattribute__\u001b[39m(item)  \u001b[38;5;66;03m# Raises AttributeError if appropriate\u001b[39;00m\n\u001b[0;32m    989\u001b[0m \u001b[38;5;28;01melse\u001b[39;00m:\n\u001b[0;32m    990\u001b[0m     \u001b[38;5;66;03m# this is the current error\u001b[39;00m\n\u001b[1;32m--> 991\u001b[0m     \u001b[38;5;28;01mraise\u001b[39;00m \u001b[38;5;167;01mAttributeError\u001b[39;00m(\u001b[38;5;124mf\u001b[39m\u001b[38;5;124m'\u001b[39m\u001b[38;5;132;01m{\u001b[39;00m\u001b[38;5;28mtype\u001b[39m(\u001b[38;5;28mself\u001b[39m)\u001b[38;5;241m.\u001b[39m\u001b[38;5;18m__name__\u001b[39m\u001b[38;5;132;01m!r}\u001b[39;00m\u001b[38;5;124m object has no attribute \u001b[39m\u001b[38;5;132;01m{\u001b[39;00mitem\u001b[38;5;132;01m!r}\u001b[39;00m\u001b[38;5;124m'\u001b[39m)\n",
      "\u001b[1;31mAttributeError\u001b[0m: 'ChatCompletion' object has no attribute 'invoke'"
     ]
    }
   ],
   "source": [
    "from langchain_core.prompts.few_shot import FewShotPromptTemplate\n",
    "from langchain_core.prompts.prompt import PromptTemplate\n",
    "\n",
    "examples = [\n",
    "  {\n",
    "     \"number\": 6,\n",
    "     \"reasoning\": \"not divisible by 5 nor by 7\",\n",
    "     \"result\": \"None\"\n",
    "  },\n",
    "  {\n",
    "     \"number\": 15,\n",
    "     \"reasoning\": \"divisible by 5 but not by 7\",\n",
    "     \"result\": \"Abra\"\n",
    "  },\n",
    "  {\n",
    "     \"number\": 12,\n",
    "     \"reasoning\": \"not divisible by 5 nor by 7\",\n",
    "     \"result\": \"None\"\n",
    "  },\n",
    "  {\n",
    "     \"number\": 21,\n",
    "     \"reasoning\": \"divisible by 7 but not by 5\",\n",
    "     \"result\": \"Kadabra\"\n",
    "  },\n",
    "  {\n",
    "     \"number\": 70,\n",
    "     \"reasoning\": \"divisible by 5 and by 7\",\n",
    "     \"result\": \"Abra Kadabra\"\n",
    "  } \n",
    " ]\n",
    "\n",
    "example_prompt = PromptTemplate(input_variables=[\"number\", \"reasoning\", \"result\"],\n",
    "template=\"{number} \\\\ {reasoning} \\\\ {result}\")\n",
    "\n",
    "few_shot_prompt = FewShotPromptTemplate(\n",
    "    examples=examples,\n",
    "    example_prompt=example_prompt, \n",
    "    suffix=\"Classify the following numbers as Abra, Kadabra or Abra Kadabra:{comma_delimited_input_numbers}\",\n",
    "    input_variables=[\"comma_delimited_input_numbers\"]\n",
    ")\n",
    "\n",
    "prompt_input = few_shot_prompt.format(comma_delimited_input_numbers=\"3, 4, 5, 7, 8, 10, 11, 13, 35.\")\n",
    "\n",
    "response = llm.invoke(prompt_input)\n",
    "\n",
    "print(response.content)"
   ]
  },
  {
   "cell_type": "code",
   "execution_count": null,
   "id": "d0f4e808-ceda-4506-8a87-ac903d57c9bc",
   "metadata": {},
   "outputs": [],
   "source": []
  }
 ],
 "metadata": {
  "kernelspec": {
   "display_name": "Python 3 (ipykernel)",
   "language": "python",
   "name": "python3"
  },
  "language_info": {
   "codemirror_mode": {
    "name": "ipython",
    "version": 3
   },
   "file_extension": ".py",
   "mimetype": "text/x-python",
   "name": "python",
   "nbconvert_exporter": "python",
   "pygments_lexer": "ipython3",
   "version": "3.9.5"
  }
 },
 "nbformat": 4,
 "nbformat_minor": 5
}
