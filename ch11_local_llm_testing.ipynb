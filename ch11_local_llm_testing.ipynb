{
 "cells": [
  {
   "cell_type": "code",
   "execution_count": 1,
   "id": "e04a8dbe-06af-448e-9c8a-35285e89e8e6",
   "metadata": {},
   "outputs": [],
   "source": [
    "import ollama"
   ]
  },
  {
   "cell_type": "code",
   "execution_count": 2,
   "id": "51531bfe-abbe-45dd-b3a0-e19fe65ae0f8",
   "metadata": {},
   "outputs": [
    {
     "name": "stdout",
     "output_type": "stream",
     "text": [
      "There are three well-preserved ancient Greek temples in Paestum, Italy. These temples date back to the 6th century BC and are among the best examples of Doric architecture outside of Greece.\n",
      "\n",
      "The three temples are:\n",
      "\n",
      "1. Temple of Neptune (also known as the Basilica)\n",
      "2. Temple of Athena\n",
      "3. Temple of Cerere\n",
      "\n",
      "These temples were built by Greek colonizers in Paestum, which was an ancient city in southern Italy that was later absorbed into Roman civilization.\n"
     ]
    }
   ],
   "source": [
    "response = ollama.chat(model = \"llama3.1:8b\", messages=[\n",
    "    {\"role\": \"system\", \"content\": \"You are a helpful AI assistant\"},\n",
    "    {\"role\": \"user\", \"content\": \"How many Greek temples are in Paestum?\"}\n",
    "])\n",
    "\n",
    "print(response['message']['content'])"
   ]
  },
  {
   "cell_type": "code",
   "execution_count": 3,
   "id": "5c31419b-24ca-4d58-8013-78e06c3b8696",
   "metadata": {},
   "outputs": [
    {
     "data": {
      "text/plain": [
       "GenerateResponse(model='llama3.1:8b', created_at='2025-07-08T08:04:41.075578Z', done=True, done_reason='stop', total_duration=13232730400, load_duration=36598200, prompt_eval_count=20, prompt_eval_duration=511305700, eval_count=178, eval_duration=12683207200, response='Paestum is actually an ancient Roman city located in the Campania region of Italy, not Greece. However, it is known for having some of the best-preserved ancient Greek temples outside of Greece itself.\\n\\nThere are three well-known and impressive Greek temples at Paestum:\\n\\n1. Temple of Neptune (also known as Basilica): Built around 550-450 BCE, this temple is a fine example of Doric architecture.\\n2. Temple of Athena: Dedicated to the goddess Athena, this temple dates back to around 500 BCE.\\n3. Temple of Ceres (Diana): This temple was built in honor of Ceres and dates back to around 500 BCE.\\n\\nAll three temples are now part of a UNESCO World Heritage site and are open for visitation. So, if you ever find yourself in southern Italy, Paestum is definitely worth a stop!', thinking=None, context=[128006, 882, 128007, 271, 4438, 1690, 18341, 57997, 527, 304, 16056, 478, 372, 30, 128009, 128006, 78191, 128007, 271, 20908, 478, 372, 374, 3604, 459, 14154, 13041, 3363, 7559, 304, 279, 8215, 857, 689, 5654, 315, 15704, 11, 539, 25431, 13, 4452, 11, 433, 374, 3967, 369, 3515, 1063, 315, 279, 1888, 2320, 52202, 14154, 18341, 57997, 4994, 315, 25431, 5196, 382, 3947, 527, 2380, 1664, 22015, 323, 16358, 18341, 57997, 520, 16056, 478, 372, 1473, 16, 13, 19176, 315, 80724, 320, 19171, 3967, 439, 67070, 3074, 1680, 34154, 2212, 220, 13506, 12, 10617, 79677, 11, 420, 27850, 374, 264, 7060, 3187, 315, 25225, 292, 18112, 627, 17, 13, 19176, 315, 79789, 25, 96658, 311, 279, 52190, 79789, 11, 420, 27850, 13003, 1203, 311, 2212, 220, 2636, 79677, 627, 18, 13, 19176, 315, 356, 13213, 320, 35, 12699, 1680, 1115, 27850, 574, 5918, 304, 16044, 315, 356, 13213, 323, 13003, 1203, 311, 2212, 220, 2636, 79677, 382, 2460, 2380, 57997, 527, 1457, 961, 315, 264, 81876, 4435, 34243, 2816, 323, 527, 1825, 369, 4034, 367, 13, 2100, 11, 422, 499, 3596, 1505, 6261, 304, 18561, 15704, 11, 16056, 478, 372, 374, 8659, 5922, 264, 3009, 0])"
      ]
     },
     "execution_count": 3,
     "metadata": {},
     "output_type": "execute_result"
    }
   ],
   "source": [
    "# Alternatively you can send instructions to the /generate endpoint:\n",
    "ollama.generate(model='llama3.1:8b', prompt = 'How many Greek temples are in Paestum?')  "
   ]
  },
  {
   "cell_type": "code",
   "execution_count": 4,
   "id": "c350f27e-0853-4d20-a542-33f1d7f65e7d",
   "metadata": {},
   "outputs": [],
   "source": [
    "from ollama import Client\n",
    "client = Client(host='http://localhost:11434/')\n",
    "response = client.chat(model='llama3.1:8b', messages=[\n",
    "    { \"role\": \"system\", \"content\": \"You are an helpful AI assistant\" },\n",
    "    { \"role\": \"user\", \"content\": \"How many Greek temples are in Paestum?\" }\n",
    "])"
   ]
  },
  {
   "cell_type": "code",
   "execution_count": 5,
   "id": "64cc016e-47fa-40b1-9e6d-8debffffb20c",
   "metadata": {},
   "outputs": [
    {
     "name": "stdout",
     "output_type": "stream",
     "text": [
      "model='llama3.1:8b' created_at='2025-07-08T08:04:57.1089425Z' done=True done_reason='stop' total_duration=10437433900 load_duration=32030500 prompt_eval_count=31 prompt_eval_duration=827195100 eval_count=139 eval_duration=9577001600 message=Message(role='assistant', content=\"Paestum is a ancient city in Italy, and it's home to three incredibly well-preserved ancient Greek temples. These temples date back to the 6th century BC and showcase some of the finest examples of Doric architecture from that era.\\n\\nSo, to answer your question, there are exactly **three** Greek temples in Paestum:\\n\\n1. The Temple of Neptune (also known as the Basilica)\\n2. The Temple of Hera\\n3. The Temple of Athena\\n\\nEach temple has its own unique features and historical significance, making Paestum a fascinating destination for history buffs and architecture enthusiasts alike.\\n\\nWould you like to know more about these temples or perhaps their history?\", thinking=None, images=None, tool_calls=None)\n"
     ]
    }
   ],
   "source": [
    "print(response)"
   ]
  },
  {
   "cell_type": "code",
   "execution_count": 16,
   "id": "045ac9d6-620a-40f5-acc2-95c4fa2eeb54",
   "metadata": {},
   "outputs": [],
   "source": [
    "import asyncio\n",
    "from ollama import AsyncClient"
   ]
  },
  {
   "cell_type": "code",
   "execution_count": 26,
   "id": "cf6a0986-02e9-45ea-963b-cdd391fc368b",
   "metadata": {},
   "outputs": [],
   "source": [
    "async def chat():\n",
    "    message = {'role': 'user', 'content': 'How many Greek temples are in Paestum?'}\n",
    "    response = await AsyncClient().chat(model='llama3.1:8b', messages=[message])\n",
    "    print(response['message']['content'])\n"
   ]
  },
  {
   "cell_type": "code",
   "execution_count": null,
   "id": "c0f962c4-8f28-4254-8057-95a1d88be7b2",
   "metadata": {},
   "outputs": [],
   "source": []
  },
  {
   "cell_type": "code",
   "execution_count": null,
   "id": "6fbe89c3-ac20-4ec3-9d16-a5542fa293af",
   "metadata": {},
   "outputs": [],
   "source": [
    "#Langchin Integration"
   ]
  },
  {
   "cell_type": "code",
   "execution_count": 6,
   "id": "36c6a8cf-7997-4751-bbf9-3f3f1bf99ef6",
   "metadata": {},
   "outputs": [
    {
     "name": "stderr",
     "output_type": "stream",
     "text": [
      "C:\\Users\\NET02\\AppData\\Local\\Temp\\ipykernel_7588\\3449984281.py:3: LangChainDeprecationWarning: The class `Ollama` was deprecated in LangChain 0.3.1 and will be removed in 1.0.0. An updated version of the class exists in the :class:`~langchain-ollama package and should be used instead. To use it run `pip install -U :class:`~langchain-ollama` and import as `from :class:`~langchain_ollama import OllamaLLM``.\n",
      "  llm = Ollama(model='llama3.1:8b')\n"
     ]
    }
   ],
   "source": [
    "from langchain_community.llms import Ollama\n",
    "\n",
    "llm = Ollama(model='llama3.1:8b')"
   ]
  },
  {
   "cell_type": "code",
   "execution_count": 7,
   "id": "d512285f-aad2-4145-a180-438affb25ca0",
   "metadata": {},
   "outputs": [
    {
     "name": "stdout",
     "output_type": "stream",
     "text": [
      "Paestum, a UNESCO World Heritage site located in the province of Salerno, Italy, is actually home to three remarkably well-preserved ancient Greek temples. These temples date back to the 6th and 5th centuries BC.\n",
      "\n",
      "The three temples at Paestum are:\n",
      "\n",
      "1. The Temple of Neptune (originally dedicated to Hera)\n",
      "2. The Temple of Athena\n",
      "3. The Basilica (a larger temple that was originally dedicated to Poseidon, but later converted into a Christian church)\n",
      "\n",
      "These temples showcase an impressive example of ancient Greek architecture and art in Italy, even though they are located outside the borders of Greece itself.\n",
      "\n",
      "So, to answer your question: there are three Greek temples at Paestum.\n"
     ]
    }
   ],
   "source": [
    "query = \"How many Greek temples are in Paestum?\"\n",
    "response = llm.invoke(query)\n",
    "print(response)"
   ]
  },
  {
   "cell_type": "code",
   "execution_count": 8,
   "id": "1b31cadb-702a-4ca2-9b34-5858b25d0711",
   "metadata": {},
   "outputs": [
    {
     "ename": "ModuleNotFoundError",
     "evalue": "No module named 'transformers'",
     "output_type": "error",
     "traceback": [
      "\u001b[31m---------------------------------------------------------------------------\u001b[39m",
      "\u001b[31mModuleNotFoundError\u001b[39m                       Traceback (most recent call last)",
      "\u001b[36mCell\u001b[39m\u001b[36m \u001b[39m\u001b[32mIn[8]\u001b[39m\u001b[32m, line 2\u001b[39m\n\u001b[32m      1\u001b[39m \u001b[38;5;28;01mfrom\u001b[39;00m\u001b[38;5;250m \u001b[39m\u001b[34;01mlangchain_community\u001b[39;00m\u001b[34;01m.\u001b[39;00m\u001b[34;01mllms\u001b[39;00m\u001b[34;01m.\u001b[39;00m\u001b[34;01mhuggingface_pipeline\u001b[39;00m\u001b[38;5;250m \u001b[39m\u001b[38;5;28;01mimport\u001b[39;00m HuggingFacePipeline\n\u001b[32m----> \u001b[39m\u001b[32m2\u001b[39m \u001b[38;5;28;01mfrom\u001b[39;00m\u001b[38;5;250m \u001b[39m\u001b[34;01mtransformers\u001b[39;00m\u001b[38;5;250m \u001b[39m\u001b[38;5;28;01mimport\u001b[39;00m AutoModelForCausalLM, AutoTokenizer, pipeline\n\u001b[32m      3\u001b[39m \u001b[38;5;28;01mfrom\u001b[39;00m\u001b[38;5;250m \u001b[39m\u001b[34;01mlangchain\u001b[39;00m\u001b[34;01m.\u001b[39;00m\u001b[34;01mprompts\u001b[39;00m\u001b[38;5;250m \u001b[39m\u001b[38;5;28;01mimport\u001b[39;00m PromptTemplate\n",
      "\u001b[31mModuleNotFoundError\u001b[39m: No module named 'transformers'"
     ]
    }
   ],
   "source": []
  },
  {
   "cell_type": "code",
   "execution_count": 14,
   "id": "bbfa855b-8b34-4e7c-b4cb-d3c6d2b44a17",
   "metadata": {},
   "outputs": [],
   "source": [
    "#pip install PyTorch"
   ]
  },
  {
   "cell_type": "code",
   "execution_count": 15,
   "id": "36d52099-5e80-47bc-b24e-fe9d1e02ae08",
   "metadata": {},
   "outputs": [],
   "source": [
    "from langchain_community.llms.huggingface_pipeline import HuggingFacePipeline\n",
    "from transformers import AutoModelForCausalLM, AutoTokenizer, pipeline\n",
    "from langchain.prompts import PromptTemplate"
   ]
  },
  {
   "cell_type": "code",
   "execution_count": null,
   "id": "25f7d49e-dd79-49c4-87c9-b520ea8e9d80",
   "metadata": {},
   "outputs": [],
   "source": []
  },
  {
   "cell_type": "code",
   "execution_count": null,
   "id": "3653c74e-ed73-4d40-844c-6f4fc7dcae6b",
   "metadata": {},
   "outputs": [],
   "source": []
  }
 ],
 "metadata": {
  "kernelspec": {
   "display_name": "Python 3 (ipykernel)",
   "language": "python",
   "name": "python3"
  },
  "language_info": {
   "codemirror_mode": {
    "name": "ipython",
    "version": 3
   },
   "file_extension": ".py",
   "mimetype": "text/x-python",
   "name": "python",
   "nbconvert_exporter": "python",
   "pygments_lexer": "ipython3",
   "version": "3.11.7"
  }
 },
 "nbformat": 4,
 "nbformat_minor": 5
}
